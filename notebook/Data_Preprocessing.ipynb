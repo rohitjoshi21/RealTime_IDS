{
 "cells": [
  {
   "cell_type": "code",
   "execution_count": 1,
   "metadata": {
    "id": "5_XNhDN4owz2"
   },
   "outputs": [],
   "source": [
    "import numpy as np\n",
    "import pandas as pd\n",
    "import seaborn as sns\n",
    "import matplotlib.pyplot as plt"
   ]
  },
  {
   "cell_type": "code",
   "execution_count": 6,
   "metadata": {
    "colab": {
     "base_uri": "https://localhost:8080/"
    },
    "id": "BcBRfUppqm1c",
    "outputId": "4f71d332-2d17-4219-8b38-158125dfa6b9"
   },
   "outputs": [
    {
     "name": "stdout",
     "output_type": "stream",
     "text": [
      "Downloading...\n",
      "From: https://drive.google.com/uc?id=1BnKSXnaX8-sGzK1GNlAXve2pQ0Ql6CUz\n",
      "To: /content/1.csv\n",
      "100% 52.0M/52.0M [00:00<00:00, 61.3MB/s]\n",
      "Downloading...\n",
      "From: https://drive.google.com/uc?id=1EdGVo3wQh52s7RTmSQ6uPGkknmjHcnL-\n",
      "To: /content/2.csv\n",
      "100% 77.1M/77.1M [00:00<00:00, 86.5MB/s]\n",
      "Downloading...\n",
      "From: https://drive.google.com/uc?id=1vjb8V1vE1ZjKgJjuQ7jRa17yo00DMCGV\n",
      "To: /content/3.csv\n",
      "100% 76.9M/76.9M [00:01<00:00, 42.1MB/s]\n",
      "Downloading...\n",
      "From: https://drive.google.com/uc?id=13-EDXZDdxpogyVt4_UcSYJ-RN74kedCm\n",
      "To: /content/4.csv\n",
      "100% 58.3M/58.3M [00:00<00:00, 70.3MB/s]\n",
      "Downloading...\n",
      "From (original): https://drive.google.com/uc?id=1yjc47co5wXZOsSC39Nb8KYcsWsphyyxh\n",
      "From (redirected): https://drive.google.com/uc?id=1yjc47co5wXZOsSC39Nb8KYcsWsphyyxh&confirm=t&uuid=3e571acf-0e78-47ed-9686-24dae7d80d0f\n",
      "To: /content/5.csv\n",
      "100% 177M/177M [00:02<00:00, 68.6MB/s]\n",
      "Downloading...\n",
      "From: https://drive.google.com/uc?id=1xJOrPX5QV3Ys3ZwtZR-wsYmQi3mVWvqO\n",
      "To: /content/6.csv\n",
      "100% 83.1M/83.1M [00:02<00:00, 30.4MB/s]\n",
      "Downloading...\n",
      "From (original): https://drive.google.com/uc?id=143kbgfsr7TiRQ58rv6HfGca0nnf98T9t\n",
      "From (redirected): https://drive.google.com/uc?id=143kbgfsr7TiRQ58rv6HfGca0nnf98T9t&confirm=t&uuid=73255a72-3cc8-4070-99b7-a4279ae1d888\n",
      "To: /content/7.csv\n",
      "100% 135M/135M [00:01<00:00, 71.2MB/s]\n",
      "Downloading...\n",
      "From (original): https://drive.google.com/uc?id=1YxRK5X0paU3cXtxFpI1fzqf3F0Pph36t\n",
      "From (redirected): https://drive.google.com/uc?id=1YxRK5X0paU3cXtxFpI1fzqf3F0Pph36t&confirm=t&uuid=5605de4d-28ea-4126-bdc4-3c7de6d7bae3\n",
      "To: /content/8.csv\n",
      "100% 225M/225M [00:02<00:00, 88.6MB/s]\n"
     ]
    }
   ],
   "source": [
    "!gdown 'https://drive.google.com/uc?id=1BnKSXnaX8-sGzK1GNlAXve2pQ0Ql6CUz' -O '1.csv' #Thursday Working Hours Morning WebAttacks\n",
    "!gdown 'https://drive.google.com/uc?id=1EdGVo3wQh52s7RTmSQ6uPGkknmjHcnL-' -O '2.csv' #Friday Working Hours - Afternoon -DDos\n",
    "!gdown 'https://drive.google.com/uc?id=1vjb8V1vE1ZjKgJjuQ7jRa17yo00DMCGV' -O '3.csv' #Friday Working Hours - PortScan\n",
    "!gdown 'https://drive.google.com/uc?id=13-EDXZDdxpogyVt4_UcSYJ-RN74kedCm' -O '4.csv' #Friday Working Hours - Morning\n",
    "!gdown 'https://drive.google.com/uc?id=1yjc47co5wXZOsSC39Nb8KYcsWsphyyxh' -O '5.csv' #Monday Working Hours\n",
    "!gdown 'https://drive.google.com/uc?id=1xJOrPX5QV3Ys3ZwtZR-wsYmQi3mVWvqO' -O '6.csv' #Thurday Working Hours Afternoon - Infilteration\n",
    "!gdown 'https://drive.google.com/uc?id=143kbgfsr7TiRQ58rv6HfGca0nnf98T9t' -O '7.csv' #Tuesday Working Hours\n",
    "!gdown 'https://drive.google.com/uc?id=1YxRK5X0paU3cXtxFpI1fzqf3F0Pph36t' -O '8.csv' #Wednesday Working Hours"
   ]
  },
  {
   "cell_type": "code",
   "execution_count": 7,
   "metadata": {
    "id": "vDzs7_I-q4Mm"
   },
   "outputs": [],
   "source": [
    "df1 = pd.read_csv('1.csv')\n",
    "df2 = pd.read_csv('2.csv')"
   ]
  },
  {
   "cell_type": "code",
   "execution_count": 15,
   "metadata": {
    "id": "cTUitaQtoAco"
   },
   "outputs": [],
   "source": [
    "df = pd.read_csv('1.csv')\n",
    "df.columns = [column.lstrip() for column in df.columns]\n",
    "for i in range(2, 9):\n",
    "  name = str(i) + '.csv'\n",
    "  df1 = pd.read_csv(name)\n",
    "  df1.columns =  [column.lstrip() for column in df1.columns]\n",
    "  df = pd.concat([df, df1], ignore_index=True)"
   ]
  },
  {
   "cell_type": "code",
   "execution_count": 58,
   "metadata": {
    "colab": {
     "base_uri": "https://localhost:8080/",
     "height": 335
    },
    "id": "L5ynvgrXG_jl",
    "outputId": "62a79698-ba07-4da7-8994-8a4bd6dad8e8"
   },
   "outputs": [
    {
     "data": {
      "text/html": [
       "<div>\n",
       "<style scoped>\n",
       "    .dataframe tbody tr th:only-of-type {\n",
       "        vertical-align: middle;\n",
       "    }\n",
       "\n",
       "    .dataframe tbody tr th {\n",
       "        vertical-align: top;\n",
       "    }\n",
       "\n",
       "    .dataframe thead th {\n",
       "        text-align: right;\n",
       "    }\n",
       "</style>\n",
       "<table border=\"1\" class=\"dataframe\">\n",
       "  <thead>\n",
       "    <tr style=\"text-align: right;\">\n",
       "      <th></th>\n",
       "      <th>count</th>\n",
       "    </tr>\n",
       "    <tr>\n",
       "      <th>Label</th>\n",
       "      <th></th>\n",
       "    </tr>\n",
       "  </thead>\n",
       "  <tbody>\n",
       "    <tr>\n",
       "      <th>BENIGN</th>\n",
       "      <td>2273097</td>\n",
       "    </tr>\n",
       "    <tr>\n",
       "      <th>DoS</th>\n",
       "      <td>252661</td>\n",
       "    </tr>\n",
       "    <tr>\n",
       "      <th>PortScan</th>\n",
       "      <td>158930</td>\n",
       "    </tr>\n",
       "    <tr>\n",
       "      <th>DDoS</th>\n",
       "      <td>128027</td>\n",
       "    </tr>\n",
       "    <tr>\n",
       "      <th>Brute Force</th>\n",
       "      <td>13835</td>\n",
       "    </tr>\n",
       "    <tr>\n",
       "      <th>Web Attack</th>\n",
       "      <td>2180</td>\n",
       "    </tr>\n",
       "    <tr>\n",
       "      <th>Other</th>\n",
       "      <td>2013</td>\n",
       "    </tr>\n",
       "  </tbody>\n",
       "</table>\n",
       "</div><br><label><b>dtype:</b> int64</label>"
      ],
      "text/plain": [
       "Label\n",
       "BENIGN         2273097\n",
       "DoS             252661\n",
       "PortScan        158930\n",
       "DDoS            128027\n",
       "Brute Force      13835\n",
       "Web Attack        2180\n",
       "Other             2013\n",
       "Name: count, dtype: int64"
      ]
     },
     "execution_count": 58,
     "metadata": {},
     "output_type": "execute_result"
    }
   ],
   "source": [
    "df.iloc[:, -1].value_counts()"
   ]
  },
  {
   "cell_type": "code",
   "execution_count": 27,
   "metadata": {
    "colab": {
     "base_uri": "https://localhost:8080/",
     "height": 423
    },
    "id": "fZkZSOI9DrM4",
    "outputId": "b7b5b700-24dc-4b97-e372-4e72bd909ba7"
   },
   "outputs": [
    {
     "data": {
      "application/vnd.google.colaboratory.intrinsic+json": {
       "type": "dataframe"
      },
      "text/html": [
       "\n",
       "  <div id=\"df-1a3f6767-5032-4bb6-9a36-a9ffb9c52d0f\" class=\"colab-df-container\">\n",
       "    <div>\n",
       "<style scoped>\n",
       "    .dataframe tbody tr th:only-of-type {\n",
       "        vertical-align: middle;\n",
       "    }\n",
       "\n",
       "    .dataframe tbody tr th {\n",
       "        vertical-align: top;\n",
       "    }\n",
       "\n",
       "    .dataframe thead th {\n",
       "        text-align: right;\n",
       "    }\n",
       "</style>\n",
       "<table border=\"1\" class=\"dataframe\">\n",
       "  <thead>\n",
       "    <tr style=\"text-align: right;\">\n",
       "      <th></th>\n",
       "      <th>Flow Bytes/s</th>\n",
       "    </tr>\n",
       "  </thead>\n",
       "  <tbody>\n",
       "    <tr>\n",
       "      <th>0</th>\n",
       "      <td>1.740123e+02</td>\n",
       "    </tr>\n",
       "    <tr>\n",
       "      <th>1</th>\n",
       "      <td>2.122254e+02</td>\n",
       "    </tr>\n",
       "    <tr>\n",
       "      <th>2</th>\n",
       "      <td>0.000000e+00</td>\n",
       "    </tr>\n",
       "    <tr>\n",
       "      <th>3</th>\n",
       "      <td>1.087088e+02</td>\n",
       "    </tr>\n",
       "    <tr>\n",
       "      <th>4</th>\n",
       "      <td>1.576208e+06</td>\n",
       "    </tr>\n",
       "    <tr>\n",
       "      <th>...</th>\n",
       "      <td>...</td>\n",
       "    </tr>\n",
       "    <tr>\n",
       "      <th>2830738</th>\n",
       "      <td>8.194940e+03</td>\n",
       "    </tr>\n",
       "    <tr>\n",
       "      <th>2830739</th>\n",
       "      <td>1.376543e+06</td>\n",
       "    </tr>\n",
       "    <tr>\n",
       "      <th>2830740</th>\n",
       "      <td>4.512195e+05</td>\n",
       "    </tr>\n",
       "    <tr>\n",
       "      <th>2830741</th>\n",
       "      <td>4.272221e+02</td>\n",
       "    </tr>\n",
       "    <tr>\n",
       "      <th>2830742</th>\n",
       "      <td>4.360695e+03</td>\n",
       "    </tr>\n",
       "  </tbody>\n",
       "</table>\n",
       "<p>2830743 rows × 1 columns</p>\n",
       "</div>\n",
       "    <div class=\"colab-df-buttons\">\n",
       "\n",
       "  <div class=\"colab-df-container\">\n",
       "    <button class=\"colab-df-convert\" onclick=\"convertToInteractive('df-1a3f6767-5032-4bb6-9a36-a9ffb9c52d0f')\"\n",
       "            title=\"Convert this dataframe to an interactive table.\"\n",
       "            style=\"display:none;\">\n",
       "\n",
       "  <svg xmlns=\"http://www.w3.org/2000/svg\" height=\"24px\" viewBox=\"0 -960 960 960\">\n",
       "    <path d=\"M120-120v-720h720v720H120Zm60-500h600v-160H180v160Zm220 220h160v-160H400v160Zm0 220h160v-160H400v160ZM180-400h160v-160H180v160Zm440 0h160v-160H620v160ZM180-180h160v-160H180v160Zm440 0h160v-160H620v160Z\"/>\n",
       "  </svg>\n",
       "    </button>\n",
       "\n",
       "  <style>\n",
       "    .colab-df-container {\n",
       "      display:flex;\n",
       "      gap: 12px;\n",
       "    }\n",
       "\n",
       "    .colab-df-convert {\n",
       "      background-color: #E8F0FE;\n",
       "      border: none;\n",
       "      border-radius: 50%;\n",
       "      cursor: pointer;\n",
       "      display: none;\n",
       "      fill: #1967D2;\n",
       "      height: 32px;\n",
       "      padding: 0 0 0 0;\n",
       "      width: 32px;\n",
       "    }\n",
       "\n",
       "    .colab-df-convert:hover {\n",
       "      background-color: #E2EBFA;\n",
       "      box-shadow: 0px 1px 2px rgba(60, 64, 67, 0.3), 0px 1px 3px 1px rgba(60, 64, 67, 0.15);\n",
       "      fill: #174EA6;\n",
       "    }\n",
       "\n",
       "    .colab-df-buttons div {\n",
       "      margin-bottom: 4px;\n",
       "    }\n",
       "\n",
       "    [theme=dark] .colab-df-convert {\n",
       "      background-color: #3B4455;\n",
       "      fill: #D2E3FC;\n",
       "    }\n",
       "\n",
       "    [theme=dark] .colab-df-convert:hover {\n",
       "      background-color: #434B5C;\n",
       "      box-shadow: 0px 1px 3px 1px rgba(0, 0, 0, 0.15);\n",
       "      filter: drop-shadow(0px 1px 2px rgba(0, 0, 0, 0.3));\n",
       "      fill: #FFFFFF;\n",
       "    }\n",
       "  </style>\n",
       "\n",
       "    <script>\n",
       "      const buttonEl =\n",
       "        document.querySelector('#df-1a3f6767-5032-4bb6-9a36-a9ffb9c52d0f button.colab-df-convert');\n",
       "      buttonEl.style.display =\n",
       "        google.colab.kernel.accessAllowed ? 'block' : 'none';\n",
       "\n",
       "      async function convertToInteractive(key) {\n",
       "        const element = document.querySelector('#df-1a3f6767-5032-4bb6-9a36-a9ffb9c52d0f');\n",
       "        const dataTable =\n",
       "          await google.colab.kernel.invokeFunction('convertToInteractive',\n",
       "                                                    [key], {});\n",
       "        if (!dataTable) return;\n",
       "\n",
       "        const docLinkHtml = 'Like what you see? Visit the ' +\n",
       "          '<a target=\"_blank\" href=https://colab.research.google.com/notebooks/data_table.ipynb>data table notebook</a>'\n",
       "          + ' to learn more about interactive tables.';\n",
       "        element.innerHTML = '';\n",
       "        dataTable['output_type'] = 'display_data';\n",
       "        await google.colab.output.renderOutput(dataTable, element);\n",
       "        const docLink = document.createElement('div');\n",
       "        docLink.innerHTML = docLinkHtml;\n",
       "        element.appendChild(docLink);\n",
       "      }\n",
       "    </script>\n",
       "  </div>\n",
       "\n",
       "\n",
       "<div id=\"df-30d19560-63e4-4ab8-a154-63fc395767ca\">\n",
       "  <button class=\"colab-df-quickchart\" onclick=\"quickchart('df-30d19560-63e4-4ab8-a154-63fc395767ca')\"\n",
       "            title=\"Suggest charts\"\n",
       "            style=\"display:none;\">\n",
       "\n",
       "<svg xmlns=\"http://www.w3.org/2000/svg\" height=\"24px\"viewBox=\"0 0 24 24\"\n",
       "     width=\"24px\">\n",
       "    <g>\n",
       "        <path d=\"M19 3H5c-1.1 0-2 .9-2 2v14c0 1.1.9 2 2 2h14c1.1 0 2-.9 2-2V5c0-1.1-.9-2-2-2zM9 17H7v-7h2v7zm4 0h-2V7h2v10zm4 0h-2v-4h2v4z\"/>\n",
       "    </g>\n",
       "</svg>\n",
       "  </button>\n",
       "\n",
       "<style>\n",
       "  .colab-df-quickchart {\n",
       "      --bg-color: #E8F0FE;\n",
       "      --fill-color: #1967D2;\n",
       "      --hover-bg-color: #E2EBFA;\n",
       "      --hover-fill-color: #174EA6;\n",
       "      --disabled-fill-color: #AAA;\n",
       "      --disabled-bg-color: #DDD;\n",
       "  }\n",
       "\n",
       "  [theme=dark] .colab-df-quickchart {\n",
       "      --bg-color: #3B4455;\n",
       "      --fill-color: #D2E3FC;\n",
       "      --hover-bg-color: #434B5C;\n",
       "      --hover-fill-color: #FFFFFF;\n",
       "      --disabled-bg-color: #3B4455;\n",
       "      --disabled-fill-color: #666;\n",
       "  }\n",
       "\n",
       "  .colab-df-quickchart {\n",
       "    background-color: var(--bg-color);\n",
       "    border: none;\n",
       "    border-radius: 50%;\n",
       "    cursor: pointer;\n",
       "    display: none;\n",
       "    fill: var(--fill-color);\n",
       "    height: 32px;\n",
       "    padding: 0;\n",
       "    width: 32px;\n",
       "  }\n",
       "\n",
       "  .colab-df-quickchart:hover {\n",
       "    background-color: var(--hover-bg-color);\n",
       "    box-shadow: 0 1px 2px rgba(60, 64, 67, 0.3), 0 1px 3px 1px rgba(60, 64, 67, 0.15);\n",
       "    fill: var(--button-hover-fill-color);\n",
       "  }\n",
       "\n",
       "  .colab-df-quickchart-complete:disabled,\n",
       "  .colab-df-quickchart-complete:disabled:hover {\n",
       "    background-color: var(--disabled-bg-color);\n",
       "    fill: var(--disabled-fill-color);\n",
       "    box-shadow: none;\n",
       "  }\n",
       "\n",
       "  .colab-df-spinner {\n",
       "    border: 2px solid var(--fill-color);\n",
       "    border-color: transparent;\n",
       "    border-bottom-color: var(--fill-color);\n",
       "    animation:\n",
       "      spin 1s steps(1) infinite;\n",
       "  }\n",
       "\n",
       "  @keyframes spin {\n",
       "    0% {\n",
       "      border-color: transparent;\n",
       "      border-bottom-color: var(--fill-color);\n",
       "      border-left-color: var(--fill-color);\n",
       "    }\n",
       "    20% {\n",
       "      border-color: transparent;\n",
       "      border-left-color: var(--fill-color);\n",
       "      border-top-color: var(--fill-color);\n",
       "    }\n",
       "    30% {\n",
       "      border-color: transparent;\n",
       "      border-left-color: var(--fill-color);\n",
       "      border-top-color: var(--fill-color);\n",
       "      border-right-color: var(--fill-color);\n",
       "    }\n",
       "    40% {\n",
       "      border-color: transparent;\n",
       "      border-right-color: var(--fill-color);\n",
       "      border-top-color: var(--fill-color);\n",
       "    }\n",
       "    60% {\n",
       "      border-color: transparent;\n",
       "      border-right-color: var(--fill-color);\n",
       "    }\n",
       "    80% {\n",
       "      border-color: transparent;\n",
       "      border-right-color: var(--fill-color);\n",
       "      border-bottom-color: var(--fill-color);\n",
       "    }\n",
       "    90% {\n",
       "      border-color: transparent;\n",
       "      border-bottom-color: var(--fill-color);\n",
       "    }\n",
       "  }\n",
       "</style>\n",
       "\n",
       "  <script>\n",
       "    async function quickchart(key) {\n",
       "      const quickchartButtonEl =\n",
       "        document.querySelector('#' + key + ' button');\n",
       "      quickchartButtonEl.disabled = true;  // To prevent multiple clicks.\n",
       "      quickchartButtonEl.classList.add('colab-df-spinner');\n",
       "      try {\n",
       "        const charts = await google.colab.kernel.invokeFunction(\n",
       "            'suggestCharts', [key], {});\n",
       "      } catch (error) {\n",
       "        console.error('Error during call to suggestCharts:', error);\n",
       "      }\n",
       "      quickchartButtonEl.classList.remove('colab-df-spinner');\n",
       "      quickchartButtonEl.classList.add('colab-df-quickchart-complete');\n",
       "    }\n",
       "    (() => {\n",
       "      let quickchartButtonEl =\n",
       "        document.querySelector('#df-30d19560-63e4-4ab8-a154-63fc395767ca button');\n",
       "      quickchartButtonEl.style.display =\n",
       "        google.colab.kernel.accessAllowed ? 'block' : 'none';\n",
       "    })();\n",
       "  </script>\n",
       "</div>\n",
       "\n",
       "    </div>\n",
       "  </div>\n"
      ],
      "text/plain": [
       "         Flow Bytes/s\n",
       "0        1.740123e+02\n",
       "1        2.122254e+02\n",
       "2        0.000000e+00\n",
       "3        1.087088e+02\n",
       "4        1.576208e+06\n",
       "...               ...\n",
       "2830738  8.194940e+03\n",
       "2830739  1.376543e+06\n",
       "2830740  4.512195e+05\n",
       "2830741  4.272221e+02\n",
       "2830742  4.360695e+03\n",
       "\n",
       "[2830743 rows x 1 columns]"
      ]
     },
     "execution_count": 27,
     "metadata": {},
     "output_type": "execute_result"
    }
   ],
   "source": [
    "#Shows the columns with null values\n",
    "df[df.columns[df.isnull().sum().apply(lambda x: x > 0)]]"
   ]
  },
  {
   "cell_type": "code",
   "execution_count": 29,
   "metadata": {
    "colab": {
     "base_uri": "https://localhost:8080/"
    },
    "id": "f--cvu02pPd4",
    "outputId": "98d0ead1-6621-4641-ba4f-cc91e96bf6cb"
   },
   "outputs": [
    {
     "data": {
      "text/plain": [
       "2071000000.0"
      ]
     },
     "execution_count": 29,
     "metadata": {},
     "output_type": "execute_result"
    }
   ],
   "source": [
    "flow_val = df['Flow Bytes/s'][df['Flow Bytes/s'] != np.inf].max()\n",
    "flow_val"
   ]
  },
  {
   "cell_type": "code",
   "execution_count": 31,
   "metadata": {
    "id": "1_aB_ZVtHVbK"
   },
   "outputs": [],
   "source": [
    "#Replacing infinity with the next maximum value\n",
    "df.loc[(df['Flow Bytes/s'] == np.inf), 'Flow Bytes/s'] = flow_val"
   ]
  },
  {
   "cell_type": "code",
   "execution_count": 32,
   "metadata": {
    "id": "YGGe0m76I0l7"
   },
   "outputs": [],
   "source": [
    "#Replacing null values in Flow Bytes/s with median value\n",
    "median_flow = df['Flow Bytes/s'].median()\n",
    "\n",
    "df['Flow Bytes/s'] = df['Flow Bytes/s'].fillna(median_flow)"
   ]
  },
  {
   "cell_type": "code",
   "execution_count": 33,
   "metadata": {
    "colab": {
     "base_uri": "https://localhost:8080/"
    },
    "id": "ERas3l1fJes4",
    "outputId": "157cbffc-07ef-4876-fed1-d64aa9bd4fb0"
   },
   "outputs": [
    {
     "name": "stdout",
     "output_type": "stream",
     "text": [
      "4000000.0\n"
     ]
    }
   ],
   "source": [
    "#Replacing infinity with null values\n",
    "df.replace([np.inf, -np.inf], np.nan, inplace=True)\n",
    "\n",
    "max_packets = df['Flow Packets/s'].max()\n",
    "print(max_packets)\n",
    "df['Flow Packets/s'] = df['Flow Packets/s'].fillna(max_packets)"
   ]
  },
  {
   "cell_type": "markdown",
   "metadata": {
    "id": "JJAt3lBUorbK"
   },
   "source": [
    "Some columns like 'Bwd PSH Flags', 'Bwd URG Flags',' Fwd Avg Bytes/Bulk','Fwd Avg Packets/Bulk','Fwd Avg Bulk Rate','Bwd Avg Bytes/Bulk','Bwd Avg Packets/Bulk','Bwd Avg Bulk Rate' were found to contain only zeros so the columns can be dropped as they do not provide any new information."
   ]
  },
  {
   "cell_type": "code",
   "execution_count": 34,
   "metadata": {
    "id": "snd6X5XzoTmA"
   },
   "outputs": [],
   "source": [
    "df.drop(columns = ['Bwd PSH Flags', 'Bwd URG Flags','Fwd Avg Bytes/Bulk','Fwd Avg Packets/Bulk','Fwd Avg Bulk Rate','Bwd Avg Bytes/Bulk','Bwd Avg Packets/Bulk','Bwd Avg Bulk Rate'], inplace=True)"
   ]
  },
  {
   "cell_type": "markdown",
   "metadata": {
    "id": "AabUs7DK-w69"
   },
   "source": [
    "Several labels needs to be combined to create a bigger representation, so that the class imbalance becomes less prominent."
   ]
  },
  {
   "cell_type": "code",
   "execution_count": 52,
   "metadata": {
    "id": "Y5yMlmrg64e7"
   },
   "outputs": [],
   "source": [
    "df['Label'] = df['Label'].replace(['DoS Hulk', 'DoS GoldenEye', 'DoS slowloris', 'DoS Slowhttptest'], 'DoS')"
   ]
  },
  {
   "cell_type": "code",
   "execution_count": 53,
   "metadata": {
    "id": "Cd4QuBsvBx0Y"
   },
   "outputs": [],
   "source": [
    "df['Label'] = df['Label'].replace(['Web Attack � Brute Force', 'Web Attack � XSS', 'Web Attack � Sql Injection'], 'Web Attack')"
   ]
  },
  {
   "cell_type": "code",
   "execution_count": 54,
   "metadata": {
    "id": "cf29fqmAFXET"
   },
   "outputs": [],
   "source": [
    "df['Label'] = df['Label'].replace(['FTP-Patator', 'SSH-Patator'], 'Brute Force')"
   ]
  },
  {
   "cell_type": "code",
   "execution_count": 57,
   "metadata": {
    "id": "50VuOmc8FsW4"
   },
   "outputs": [],
   "source": [
    "df['Label'] = df['Label'].replace(['Bot', 'Infiltration', 'Heartbleed'], 'Other')"
   ]
  },
  {
   "cell_type": "code",
   "execution_count": 59,
   "metadata": {
    "id": "21nM0idbG6Uo"
   },
   "outputs": [],
   "source": [
    "sampled_df = df[df['Label'].isin(['Other', 'Web Attack', 'Brute Force'])]"
   ]
  },
  {
   "cell_type": "code",
   "execution_count": 60,
   "metadata": {
    "colab": {
     "base_uri": "https://localhost:8080/",
     "height": 209
    },
    "id": "znYRBgnqH_hl",
    "outputId": "f658d129-4726-4b4c-9dc3-4905afb6b4db"
   },
   "outputs": [
    {
     "data": {
      "text/html": [
       "<div>\n",
       "<style scoped>\n",
       "    .dataframe tbody tr th:only-of-type {\n",
       "        vertical-align: middle;\n",
       "    }\n",
       "\n",
       "    .dataframe tbody tr th {\n",
       "        vertical-align: top;\n",
       "    }\n",
       "\n",
       "    .dataframe thead th {\n",
       "        text-align: right;\n",
       "    }\n",
       "</style>\n",
       "<table border=\"1\" class=\"dataframe\">\n",
       "  <thead>\n",
       "    <tr style=\"text-align: right;\">\n",
       "      <th></th>\n",
       "      <th>count</th>\n",
       "    </tr>\n",
       "    <tr>\n",
       "      <th>Label</th>\n",
       "      <th></th>\n",
       "    </tr>\n",
       "  </thead>\n",
       "  <tbody>\n",
       "    <tr>\n",
       "      <th>Brute Force</th>\n",
       "      <td>13835</td>\n",
       "    </tr>\n",
       "    <tr>\n",
       "      <th>Web Attack</th>\n",
       "      <td>2180</td>\n",
       "    </tr>\n",
       "    <tr>\n",
       "      <th>Other</th>\n",
       "      <td>2013</td>\n",
       "    </tr>\n",
       "  </tbody>\n",
       "</table>\n",
       "</div><br><label><b>dtype:</b> int64</label>"
      ],
      "text/plain": [
       "Label\n",
       "Brute Force    13835\n",
       "Web Attack      2180\n",
       "Other           2013\n",
       "Name: count, dtype: int64"
      ]
     },
     "execution_count": 60,
     "metadata": {},
     "output_type": "execute_result"
    }
   ],
   "source": [
    "sampled_df['Label'].value_counts()"
   ]
  },
  {
   "cell_type": "code",
   "execution_count": 61,
   "metadata": {
    "id": "QY9NsaXFITTf"
   },
   "outputs": [],
   "source": [
    "benign_df = df[df['Label'] == 'BENIGN'].sample(100000)\n",
    "dos_df = df[df['Label'] == 'DoS'].sample(80000)\n",
    "port_df = df[df['Label'] == 'PortScan'].sample(75000)\n",
    "ddos_df = df[df['Label'] == 'DDoS'].sample(65000)"
   ]
  },
  {
   "cell_type": "code",
   "execution_count": 62,
   "metadata": {
    "id": "vahBx3E6MHaT"
   },
   "outputs": [],
   "source": [
    "sampled_df = pd.concat([sampled_df, benign_df, dos_df, port_df, ddos_df], ignore_index=True)"
   ]
  },
  {
   "cell_type": "code",
   "execution_count": null,
   "metadata": {},
   "outputs": [],
   "source": [
    "correlation = sampled_df.select_dtypes(include='float64').corr().abs()"
   ]
  },
  {
   "cell_type": "code",
   "execution_count": 67,
   "metadata": {
    "id": "PRrW1NGyMWY2"
   },
   "outputs": [],
   "source": [
    "sampled_df.to_csv('out.csv', encoding='utf-8', index=False, header=True)"
   ]
  }
 ],
 "metadata": {
  "colab": {
   "provenance": []
  },
  "kernelspec": {
   "display_name": "Python 3 (ipykernel)",
   "language": "python",
   "name": "python3"
  },
  "language_info": {
   "codemirror_mode": {
    "name": "ipython",
    "version": 3
   },
   "file_extension": ".py",
   "mimetype": "text/x-python",
   "name": "python",
   "nbconvert_exporter": "python",
   "pygments_lexer": "ipython3",
   "version": "3.10.12"
  }
 },
 "nbformat": 4,
 "nbformat_minor": 4
}
