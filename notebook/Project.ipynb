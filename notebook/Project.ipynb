{
 "cells": [
  {
   "cell_type": "code",
   "execution_count": 2,
   "metadata": {
    "id": "J2lOgihD1egG"
   },
   "outputs": [],
   "source": [
    "import numpy as np\n",
    "import pandas as pd\n",
    "import seaborn as sns\n",
    "import matplotlib.pyplot as plt\n",
    "import joblib"
   ]
  },
  {
   "cell_type": "code",
   "execution_count": 3,
   "metadata": {
    "colab": {
     "base_uri": "https://localhost:8080/"
    },
    "id": "FMPc4zhs1IB1",
    "outputId": "f81f4040-7f9f-4495-cb6b-dac7b618f2e2"
   },
   "outputs": [
    {
     "name": "stdout",
     "output_type": "stream",
     "text": [
      "Downloading...\n",
      "From (original): https://drive.google.com/uc?id=166A3i3YN3bpHDYmMORDj4Ugmz3iBT-7S\n",
      "From (redirected): https://drive.google.com/uc?id=166A3i3YN3bpHDYmMORDj4Ugmz3iBT-7S&confirm=t&uuid=fc82b399-2308-471e-88c7-1efd9ad60088\n",
      "To: /mnt/WorkingDrive/Automated-Intrusion-Detection-System-/notebook/dataset.csv\n",
      "100%|████████████████████████████████████████| 277M/277M [00:29<00:00, 9.42MB/s]\n"
     ]
    }
   ],
   "source": [
    "!gdown 'https://drive.google.com/uc?id=166A3i3YN3bpHDYmMORDj4Ugmz3iBT-7S'"
   ]
  },
  {
   "cell_type": "code",
   "execution_count": 4,
   "metadata": {
    "id": "RZaDWrpY1ZY_"
   },
   "outputs": [],
   "source": [
    "df1 = pd.read_csv('out.csv')"
   ]
  },
  {
   "cell_type": "code",
   "execution_count": 7,
   "metadata": {
    "colab": {
     "base_uri": "https://localhost:8080/",
     "height": 335
    },
    "id": "ioqe1ryBfC2x",
    "outputId": "72f67d4d-bb1b-4885-f254-faaa489e6168"
   },
   "outputs": [
    {
     "data": {
      "text/plain": [
       "Label\n",
       "0    100000\n",
       "3     80000\n",
       "5     75000\n",
       "2     65000\n",
       "1     13835\n",
       "6      2180\n",
       "4      2013\n",
       "Name: count, dtype: int64"
      ]
     },
     "execution_count": 7,
     "metadata": {},
     "output_type": "execute_result"
    }
   ],
   "source": [
    "df1['Label'].value_counts()"
   ]
  },
  {
   "cell_type": "code",
   "execution_count": 8,
   "metadata": {
    "id": "PTwFbZAxkvxm"
   },
   "outputs": [],
   "source": [
    "from sklearn.preprocessing import LabelEncoder\n",
    "\n",
    "le = LabelEncoder()\n",
    "\n",
    "df1['Label'] = le.fit_transform(df1['Label'])"
   ]
  },
  {
   "cell_type": "code",
   "execution_count": 9,
   "metadata": {
    "id": "xUzJAvK7kzlu"
   },
   "outputs": [
    {
     "name": "stderr",
     "output_type": "stream",
     "text": [
      "/tmp/ipykernel_30002/745182219.py:4: FutureWarning: Setting an item of incompatible dtype is deprecated and will raise in a future error of pandas. Value '0        -0.356131\n",
      "1        -0.356131\n",
      "2        -0.356131\n",
      "3        -0.356131\n",
      "4        -0.356131\n",
      "            ...   \n",
      "338023   -0.356131\n",
      "338024   -0.356131\n",
      "338025   -0.356131\n",
      "338026   -0.356131\n",
      "338027   -0.356131\n",
      "Name: Destination Port, Length: 338028, dtype: float64' has dtype incompatible with int64, please explicitly cast to a compatible dtype first.\n",
      "  df1.iloc[:, :-1] = pd.DataFrame(scaler.fit_transform(df1.iloc[:, :-1]), columns=df1.iloc[:, :-1].columns)\n",
      "/tmp/ipykernel_30002/745182219.py:4: FutureWarning: Setting an item of incompatible dtype is deprecated and will raise in a future error of pandas. Value '0        -0.399763\n",
      "1        -0.403200\n",
      "2        -0.539234\n",
      "3        -0.397450\n",
      "4        -0.404188\n",
      "            ...   \n",
      "338023   -0.529228\n",
      "338024   -0.293493\n",
      "338025   -0.312567\n",
      "338026   -0.534257\n",
      "338027   -0.507336\n",
      "Name: Flow Duration, Length: 338028, dtype: float64' has dtype incompatible with int64, please explicitly cast to a compatible dtype first.\n",
      "  df1.iloc[:, :-1] = pd.DataFrame(scaler.fit_transform(df1.iloc[:, :-1]), columns=df1.iloc[:, :-1].columns)\n",
      "/tmp/ipykernel_30002/745182219.py:4: FutureWarning: Setting an item of incompatible dtype is deprecated and will raise in a future error of pandas. Value '0         0.001356\n",
      "1         0.007455\n",
      "2        -0.010844\n",
      "3         0.001356\n",
      "4         0.001356\n",
      "            ...   \n",
      "338023   -0.006777\n",
      "338024   -0.004744\n",
      "338025   -0.004744\n",
      "338026   -0.006777\n",
      "338027   -0.006777\n",
      "Name: Total Fwd Packets, Length: 338028, dtype: float64' has dtype incompatible with int64, please explicitly cast to a compatible dtype first.\n",
      "  df1.iloc[:, :-1] = pd.DataFrame(scaler.fit_transform(df1.iloc[:, :-1]), columns=df1.iloc[:, :-1].columns)\n",
      "/tmp/ipykernel_30002/745182219.py:4: FutureWarning: Setting an item of incompatible dtype is deprecated and will raise in a future error of pandas. Value '0         0.000841\n",
      "1         0.000841\n",
      "2        -0.008196\n",
      "3        -0.002171\n",
      "4        -0.003677\n",
      "            ...   \n",
      "338023   -0.003677\n",
      "338024   -0.009702\n",
      "338025   -0.009702\n",
      "338026   -0.002171\n",
      "338027   -0.000665\n",
      "Name: Total Backward Packets, Length: 338028, dtype: float64' has dtype incompatible with int64, please explicitly cast to a compatible dtype first.\n",
      "  df1.iloc[:, :-1] = pd.DataFrame(scaler.fit_transform(df1.iloc[:, :-1]), columns=df1.iloc[:, :-1].columns)\n",
      "/tmp/ipykernel_30002/745182219.py:4: FutureWarning: Setting an item of incompatible dtype is deprecated and will raise in a future error of pandas. Value '0         0.026273\n",
      "1         0.014378\n",
      "2        -0.016235\n",
      "3         0.024069\n",
      "4         0.024235\n",
      "            ...   \n",
      "338023   -0.015153\n",
      "338024   -0.015237\n",
      "338025   -0.015237\n",
      "338026   -0.015153\n",
      "338027   -0.015153\n",
      "Name: Total Length of Fwd Packets, Length: 338028, dtype: float64' has dtype incompatible with int64, please explicitly cast to a compatible dtype first.\n",
      "  df1.iloc[:, :-1] = pd.DataFrame(scaler.fit_transform(df1.iloc[:, :-1]), columns=df1.iloc[:, :-1].columns)\n",
      "/tmp/ipykernel_30002/745182219.py:4: FutureWarning: Setting an item of incompatible dtype is deprecated and will raise in a future error of pandas. Value '0        -0.004998\n",
      "1         0.000067\n",
      "2        -0.006554\n",
      "3        -0.005595\n",
      "4        -0.005595\n",
      "            ...   \n",
      "338023    0.001220\n",
      "338024   -0.006554\n",
      "338025   -0.006554\n",
      "338026    0.001224\n",
      "338027    0.001220\n",
      "Name: Total Length of Bwd Packets, Length: 338028, dtype: float64' has dtype incompatible with int64, please explicitly cast to a compatible dtype first.\n",
      "  df1.iloc[:, :-1] = pd.DataFrame(scaler.fit_transform(df1.iloc[:, :-1]), columns=df1.iloc[:, :-1].columns)\n",
      "/tmp/ipykernel_30002/745182219.py:4: FutureWarning: Setting an item of incompatible dtype is deprecated and will raise in a future error of pandas. Value '0         0.489517\n",
      "1         0.537049\n",
      "2        -0.279267\n",
      "3         0.880109\n",
      "4         0.888375\n",
      "            ...   \n",
      "338023   -0.237935\n",
      "338024   -0.266868\n",
      "338025   -0.266868\n",
      "338026   -0.237935\n",
      "338027   -0.237935\n",
      "Name: Fwd Packet Length Max, Length: 338028, dtype: float64' has dtype incompatible with int64, please explicitly cast to a compatible dtype first.\n",
      "  df1.iloc[:, :-1] = pd.DataFrame(scaler.fit_transform(df1.iloc[:, :-1]), columns=df1.iloc[:, :-1].columns)\n",
      "/tmp/ipykernel_30002/745182219.py:4: FutureWarning: Setting an item of incompatible dtype is deprecated and will raise in a future error of pandas. Value '0        -0.176261\n",
      "1        -0.176261\n",
      "2        -0.176261\n",
      "3        -0.176261\n",
      "4        -0.176261\n",
      "            ...   \n",
      "338023   -0.176261\n",
      "338024   -0.043687\n",
      "338025   -0.043687\n",
      "338026   -0.176261\n",
      "338027   -0.176261\n",
      "Name: Fwd Packet Length Min, Length: 338028, dtype: float64' has dtype incompatible with int64, please explicitly cast to a compatible dtype first.\n",
      "  df1.iloc[:, :-1] = pd.DataFrame(scaler.fit_transform(df1.iloc[:, :-1]), columns=df1.iloc[:, :-1].columns)\n",
      "/tmp/ipykernel_30002/745182219.py:4: FutureWarning: Setting an item of incompatible dtype is deprecated and will raise in a future error of pandas. Value '0        -0.282470\n",
      "1         0.785666\n",
      "2        -0.621669\n",
      "3        -0.276314\n",
      "4        -0.276314\n",
      "            ...   \n",
      "338023    2.216327\n",
      "338024   -0.621669\n",
      "338025   -0.621669\n",
      "338026    2.188789\n",
      "338027    0.797329\n",
      "Name: Bwd Packet Length Max, Length: 338028, dtype: float64' has dtype incompatible with int64, please explicitly cast to a compatible dtype first.\n",
      "  df1.iloc[:, :-1] = pd.DataFrame(scaler.fit_transform(df1.iloc[:, :-1]), columns=df1.iloc[:, :-1].columns)\n",
      "/tmp/ipykernel_30002/745182219.py:4: FutureWarning: Setting an item of incompatible dtype is deprecated and will raise in a future error of pandas. Value '0        -0.347377\n",
      "1        -0.347377\n",
      "2        -0.347377\n",
      "3        -0.347377\n",
      "4        -0.347377\n",
      "            ...   \n",
      "338023   -0.347377\n",
      "338024   -0.347377\n",
      "338025   -0.347377\n",
      "338026   -0.347377\n",
      "338027   -0.347377\n",
      "Name: Bwd Packet Length Min, Length: 338028, dtype: float64' has dtype incompatible with int64, please explicitly cast to a compatible dtype first.\n",
      "  df1.iloc[:, :-1] = pd.DataFrame(scaler.fit_transform(df1.iloc[:, :-1]), columns=df1.iloc[:, :-1].columns)\n",
      "/tmp/ipykernel_30002/745182219.py:4: FutureWarning: Setting an item of incompatible dtype is deprecated and will raise in a future error of pandas. Value '0        -0.363232\n",
      "1        -0.363256\n",
      "2        -0.508639\n",
      "3        -0.363291\n",
      "4        -0.363270\n",
      "            ...   \n",
      "338023   -0.498921\n",
      "338024   -0.241257\n",
      "338025   -0.261824\n",
      "338026   -0.503253\n",
      "338027   -0.474489\n",
      "Name: Flow IAT Max, Length: 338028, dtype: float64' has dtype incompatible with int64, please explicitly cast to a compatible dtype first.\n",
      "  df1.iloc[:, :-1] = pd.DataFrame(scaler.fit_transform(df1.iloc[:, :-1]), columns=df1.iloc[:, :-1].columns)\n",
      "/tmp/ipykernel_30002/745182219.py:4: FutureWarning: Setting an item of incompatible dtype is deprecated and will raise in a future error of pandas. Value '0        -0.052121\n",
      "1        -0.052111\n",
      "2        -0.052097\n",
      "3        -0.052108\n",
      "4        -0.052116\n",
      "            ...   \n",
      "338023   -0.052117\n",
      "338024   -0.052121\n",
      "338025   -0.052121\n",
      "338026   -0.052120\n",
      "338027   -0.052115\n",
      "Name: Flow IAT Min, Length: 338028, dtype: float64' has dtype incompatible with int64, please explicitly cast to a compatible dtype first.\n",
      "  df1.iloc[:, :-1] = pd.DataFrame(scaler.fit_transform(df1.iloc[:, :-1]), columns=df1.iloc[:, :-1].columns)\n",
      "/tmp/ipykernel_30002/745182219.py:4: FutureWarning: Setting an item of incompatible dtype is deprecated and will raise in a future error of pandas. Value '0        -0.525878\n",
      "1        -0.395754\n",
      "2        -0.531829\n",
      "3        -0.390003\n",
      "4        -0.396742\n",
      "            ...   \n",
      "338023   -0.530752\n",
      "338024   -0.286016\n",
      "338025   -0.305095\n",
      "338026   -0.531806\n",
      "338027   -0.531315\n",
      "Name: Fwd IAT Total, Length: 338028, dtype: float64' has dtype incompatible with int64, please explicitly cast to a compatible dtype first.\n",
      "  df1.iloc[:, :-1] = pd.DataFrame(scaler.fit_transform(df1.iloc[:, :-1]), columns=df1.iloc[:, :-1].columns)\n",
      "/tmp/ipykernel_30002/745182219.py:4: FutureWarning: Setting an item of incompatible dtype is deprecated and will raise in a future error of pandas. Value '0        -0.500335\n",
      "1        -0.359337\n",
      "2        -0.504470\n",
      "3        -0.359372\n",
      "4        -0.359351\n",
      "            ...   \n",
      "338023   -0.503329\n",
      "338024   -0.237550\n",
      "338025   -0.258081\n",
      "338026   -0.504450\n",
      "338027   -0.503914\n",
      "Name: Fwd IAT Max, Length: 338028, dtype: float64' has dtype incompatible with int64, please explicitly cast to a compatible dtype first.\n",
      "  df1.iloc[:, :-1] = pd.DataFrame(scaler.fit_transform(df1.iloc[:, :-1]), columns=df1.iloc[:, :-1].columns)\n",
      "/tmp/ipykernel_30002/745182219.py:4: FutureWarning: Setting an item of incompatible dtype is deprecated and will raise in a future error of pandas. Value '0        -0.091451\n",
      "1        -0.091425\n",
      "2        -0.091452\n",
      "3        -0.091406\n",
      "4        -0.091449\n",
      "            ...   \n",
      "338023   -0.091310\n",
      "338024   -0.091451\n",
      "338025   -0.091451\n",
      "338026   -0.091430\n",
      "338027   -0.091437\n",
      "Name: Fwd IAT Min, Length: 338028, dtype: float64' has dtype incompatible with int64, please explicitly cast to a compatible dtype first.\n",
      "  df1.iloc[:, :-1] = pd.DataFrame(scaler.fit_transform(df1.iloc[:, :-1]), columns=df1.iloc[:, :-1].columns)\n",
      "/tmp/ipykernel_30002/745182219.py:4: FutureWarning: Setting an item of incompatible dtype is deprecated and will raise in a future error of pandas. Value '0        -0.103444\n",
      "1        -0.305565\n",
      "2        -0.307779\n",
      "3        -0.297130\n",
      "4        -0.307042\n",
      "            ...   \n",
      "338023   -0.293117\n",
      "338024   -0.307779\n",
      "338025   -0.307779\n",
      "338026   -0.300486\n",
      "338027   -0.261044\n",
      "Name: Bwd IAT Total, Length: 338028, dtype: float64' has dtype incompatible with int64, please explicitly cast to a compatible dtype first.\n",
      "  df1.iloc[:, :-1] = pd.DataFrame(scaler.fit_transform(df1.iloc[:, :-1]), columns=df1.iloc[:, :-1].columns)\n",
      "/tmp/ipykernel_30002/745182219.py:4: FutureWarning: Setting an item of incompatible dtype is deprecated and will raise in a future error of pandas. Value '0        -0.030924\n",
      "1        -0.269776\n",
      "2        -0.270813\n",
      "3        -0.258105\n",
      "4        -0.270270\n",
      "            ...   \n",
      "338023   -0.254896\n",
      "338024   -0.270813\n",
      "338025   -0.270813\n",
      "338026   -0.261990\n",
      "338027   -0.214894\n",
      "Name: Bwd IAT Max, Length: 338028, dtype: float64' has dtype incompatible with int64, please explicitly cast to a compatible dtype first.\n",
      "  df1.iloc[:, :-1] = pd.DataFrame(scaler.fit_transform(df1.iloc[:, :-1]), columns=df1.iloc[:, :-1].columns)\n",
      "/tmp/ipykernel_30002/745182219.py:4: FutureWarning: Setting an item of incompatible dtype is deprecated and will raise in a future error of pandas. Value '0        -0.085272\n",
      "1        -0.085407\n",
      "2        -0.085413\n",
      "3        -0.085247\n",
      "4        -0.085263\n",
      "            ...   \n",
      "338023   -0.085383\n",
      "338024   -0.085413\n",
      "338025   -0.085413\n",
      "338026   -0.085412\n",
      "338027   -0.085409\n",
      "Name: Bwd IAT Min, Length: 338028, dtype: float64' has dtype incompatible with int64, please explicitly cast to a compatible dtype first.\n",
      "  df1.iloc[:, :-1] = pd.DataFrame(scaler.fit_transform(df1.iloc[:, :-1]), columns=df1.iloc[:, :-1].columns)\n",
      "/tmp/ipykernel_30002/745182219.py:4: FutureWarning: Setting an item of incompatible dtype is deprecated and will raise in a future error of pandas. Value '0        -0.178573\n",
      "1        -0.178573\n",
      "2        -0.178573\n",
      "3        -0.178573\n",
      "4        -0.178573\n",
      "            ...   \n",
      "338023   -0.178573\n",
      "338024   -0.178573\n",
      "338025   -0.178573\n",
      "338026   -0.178573\n",
      "338027   -0.178573\n",
      "Name: Fwd PSH Flags, Length: 338028, dtype: float64' has dtype incompatible with int64, please explicitly cast to a compatible dtype first.\n",
      "  df1.iloc[:, :-1] = pd.DataFrame(scaler.fit_transform(df1.iloc[:, :-1]), columns=df1.iloc[:, :-1].columns)\n",
      "/tmp/ipykernel_30002/745182219.py:4: FutureWarning: Setting an item of incompatible dtype is deprecated and will raise in a future error of pandas. Value '0        -0.006662\n",
      "1        -0.006662\n",
      "2        -0.006662\n",
      "3        -0.006662\n",
      "4        -0.006662\n",
      "            ...   \n",
      "338023   -0.006662\n",
      "338024   -0.006662\n",
      "338025   -0.006662\n",
      "338026   -0.006662\n",
      "338027   -0.006662\n",
      "Name: Fwd URG Flags, Length: 338028, dtype: float64' has dtype incompatible with int64, please explicitly cast to a compatible dtype first.\n",
      "  df1.iloc[:, :-1] = pd.DataFrame(scaler.fit_transform(df1.iloc[:, :-1]), columns=df1.iloc[:, :-1].columns)\n",
      "/tmp/ipykernel_30002/745182219.py:4: FutureWarning: Setting an item of incompatible dtype is deprecated and will raise in a future error of pandas. Value '0         0.001740\n",
      "1         0.001769\n",
      "2         0.001680\n",
      "3         0.001740\n",
      "4         0.001740\n",
      "            ...   \n",
      "338023    0.001692\n",
      "338024    0.001694\n",
      "338025    0.001694\n",
      "338026    0.001692\n",
      "338027    0.001692\n",
      "Name: Fwd Header Length, Length: 338028, dtype: float64' has dtype incompatible with int64, please explicitly cast to a compatible dtype first.\n",
      "  df1.iloc[:, :-1] = pd.DataFrame(scaler.fit_transform(df1.iloc[:, :-1]), columns=df1.iloc[:, :-1].columns)\n",
      "/tmp/ipykernel_30002/745182219.py:4: FutureWarning: Setting an item of incompatible dtype is deprecated and will raise in a future error of pandas. Value '0         0.005308\n",
      "1         0.005308\n",
      "2        -0.009742\n",
      "3         0.000492\n",
      "4        -0.001916\n",
      "            ...   \n",
      "338023   -0.005227\n",
      "338024   -0.012150\n",
      "338025   -0.012150\n",
      "338026   -0.003722\n",
      "338027   -0.002217\n",
      "Name: Bwd Header Length, Length: 338028, dtype: float64' has dtype incompatible with int64, please explicitly cast to a compatible dtype first.\n",
      "  df1.iloc[:, :-1] = pd.DataFrame(scaler.fit_transform(df1.iloc[:, :-1]), columns=df1.iloc[:, :-1].columns)\n",
      "/tmp/ipykernel_30002/745182219.py:4: FutureWarning: Setting an item of incompatible dtype is deprecated and will raise in a future error of pandas. Value '0        -0.386403\n",
      "1        -0.386403\n",
      "2        -0.386403\n",
      "3        -0.386403\n",
      "4        -0.386403\n",
      "            ...   \n",
      "338023   -0.386403\n",
      "338024   -0.041429\n",
      "338025   -0.041429\n",
      "338026   -0.386403\n",
      "338027   -0.386403\n",
      "Name: Min Packet Length, Length: 338028, dtype: float64' has dtype incompatible with int64, please explicitly cast to a compatible dtype first.\n",
      "  df1.iloc[:, :-1] = pd.DataFrame(scaler.fit_transform(df1.iloc[:, :-1]), columns=df1.iloc[:, :-1].columns)\n",
      "/tmp/ipykernel_30002/745182219.py:4: FutureWarning: Setting an item of incompatible dtype is deprecated and will raise in a future error of pandas. Value '0        -0.292176\n",
      "1         0.772054\n",
      "2        -0.630135\n",
      "3        -0.286043\n",
      "4        -0.286043\n",
      "            ...   \n",
      "338023    2.197484\n",
      "338024   -0.628198\n",
      "338025   -0.628198\n",
      "338026    2.170047\n",
      "338027    0.783674\n",
      "Name: Max Packet Length, Length: 338028, dtype: float64' has dtype incompatible with int64, please explicitly cast to a compatible dtype first.\n",
      "  df1.iloc[:, :-1] = pd.DataFrame(scaler.fit_transform(df1.iloc[:, :-1]), columns=df1.iloc[:, :-1].columns)\n",
      "/tmp/ipykernel_30002/745182219.py:4: FutureWarning: Setting an item of incompatible dtype is deprecated and will raise in a future error of pandas. Value '0        -0.253045\n",
      "1        -0.253045\n",
      "2        -0.253045\n",
      "3        -0.253045\n",
      "4        -0.253045\n",
      "            ...   \n",
      "338023   -0.253045\n",
      "338024   -0.253045\n",
      "338025   -0.253045\n",
      "338026   -0.253045\n",
      "338027   -0.253045\n",
      "Name: FIN Flag Count, Length: 338028, dtype: float64' has dtype incompatible with int64, please explicitly cast to a compatible dtype first.\n",
      "  df1.iloc[:, :-1] = pd.DataFrame(scaler.fit_transform(df1.iloc[:, :-1]), columns=df1.iloc[:, :-1].columns)\n",
      "/tmp/ipykernel_30002/745182219.py:4: FutureWarning: Setting an item of incompatible dtype is deprecated and will raise in a future error of pandas. Value '0        -0.178573\n",
      "1        -0.178573\n",
      "2        -0.178573\n",
      "3        -0.178573\n",
      "4        -0.178573\n",
      "            ...   \n",
      "338023   -0.178573\n",
      "338024   -0.178573\n",
      "338025   -0.178573\n",
      "338026   -0.178573\n",
      "338027   -0.178573\n",
      "Name: SYN Flag Count, Length: 338028, dtype: float64' has dtype incompatible with int64, please explicitly cast to a compatible dtype first.\n",
      "  df1.iloc[:, :-1] = pd.DataFrame(scaler.fit_transform(df1.iloc[:, :-1]), columns=df1.iloc[:, :-1].columns)\n",
      "/tmp/ipykernel_30002/745182219.py:4: FutureWarning: Setting an item of incompatible dtype is deprecated and will raise in a future error of pandas. Value '0        -0.010742\n",
      "1        -0.010742\n",
      "2        -0.010742\n",
      "3        -0.010742\n",
      "4        -0.010742\n",
      "            ...   \n",
      "338023   -0.010742\n",
      "338024   -0.010742\n",
      "338025   -0.010742\n",
      "338026   -0.010742\n",
      "338027   -0.010742\n",
      "Name: RST Flag Count, Length: 338028, dtype: float64' has dtype incompatible with int64, please explicitly cast to a compatible dtype first.\n",
      "  df1.iloc[:, :-1] = pd.DataFrame(scaler.fit_transform(df1.iloc[:, :-1]), columns=df1.iloc[:, :-1].columns)\n",
      "/tmp/ipykernel_30002/745182219.py:4: FutureWarning: Setting an item of incompatible dtype is deprecated and will raise in a future error of pandas. Value '0         1.119990\n",
      "1         1.119990\n",
      "2        -0.892865\n",
      "3         1.119990\n",
      "4         1.119990\n",
      "            ...   \n",
      "338023    1.119990\n",
      "338024   -0.892865\n",
      "338025   -0.892865\n",
      "338026    1.119990\n",
      "338027    1.119990\n",
      "Name: PSH Flag Count, Length: 338028, dtype: float64' has dtype incompatible with int64, please explicitly cast to a compatible dtype first.\n",
      "  df1.iloc[:, :-1] = pd.DataFrame(scaler.fit_transform(df1.iloc[:, :-1]), columns=df1.iloc[:, :-1].columns)\n",
      "/tmp/ipykernel_30002/745182219.py:4: FutureWarning: Setting an item of incompatible dtype is deprecated and will raise in a future error of pandas. Value '0        -0.762386\n",
      "1        -0.762386\n",
      "2         1.311671\n",
      "3        -0.762386\n",
      "4        -0.762386\n",
      "            ...   \n",
      "338023   -0.762386\n",
      "338024    1.311671\n",
      "338025    1.311671\n",
      "338026   -0.762386\n",
      "338027   -0.762386\n",
      "Name: ACK Flag Count, Length: 338028, dtype: float64' has dtype incompatible with int64, please explicitly cast to a compatible dtype first.\n",
      "  df1.iloc[:, :-1] = pd.DataFrame(scaler.fit_transform(df1.iloc[:, :-1]), columns=df1.iloc[:, :-1].columns)\n",
      "/tmp/ipykernel_30002/745182219.py:4: FutureWarning: Setting an item of incompatible dtype is deprecated and will raise in a future error of pandas. Value '0        -0.220684\n",
      "1        -0.220684\n",
      "2         4.531356\n",
      "3        -0.220684\n",
      "4        -0.220684\n",
      "            ...   \n",
      "338023   -0.220684\n",
      "338024   -0.220684\n",
      "338025   -0.220684\n",
      "338026   -0.220684\n",
      "338027   -0.220684\n",
      "Name: URG Flag Count, Length: 338028, dtype: float64' has dtype incompatible with int64, please explicitly cast to a compatible dtype first.\n",
      "  df1.iloc[:, :-1] = pd.DataFrame(scaler.fit_transform(df1.iloc[:, :-1]), columns=df1.iloc[:, :-1].columns)\n",
      "/tmp/ipykernel_30002/745182219.py:4: FutureWarning: Setting an item of incompatible dtype is deprecated and will raise in a future error of pandas. Value '0        -0.006662\n",
      "1        -0.006662\n",
      "2        -0.006662\n",
      "3        -0.006662\n",
      "4        -0.006662\n",
      "            ...   \n",
      "338023   -0.006662\n",
      "338024   -0.006662\n",
      "338025   -0.006662\n",
      "338026   -0.006662\n",
      "338027   -0.006662\n",
      "Name: CWE Flag Count, Length: 338028, dtype: float64' has dtype incompatible with int64, please explicitly cast to a compatible dtype first.\n",
      "  df1.iloc[:, :-1] = pd.DataFrame(scaler.fit_transform(df1.iloc[:, :-1]), columns=df1.iloc[:, :-1].columns)\n",
      "/tmp/ipykernel_30002/745182219.py:4: FutureWarning: Setting an item of incompatible dtype is deprecated and will raise in a future error of pandas. Value '0        -0.010742\n",
      "1        -0.010742\n",
      "2        -0.010742\n",
      "3        -0.010742\n",
      "4        -0.010742\n",
      "            ...   \n",
      "338023   -0.010742\n",
      "338024   -0.010742\n",
      "338025   -0.010742\n",
      "338026   -0.010742\n",
      "338027   -0.010742\n",
      "Name: ECE Flag Count, Length: 338028, dtype: float64' has dtype incompatible with int64, please explicitly cast to a compatible dtype first.\n",
      "  df1.iloc[:, :-1] = pd.DataFrame(scaler.fit_transform(df1.iloc[:, :-1]), columns=df1.iloc[:, :-1].columns)\n",
      "/tmp/ipykernel_30002/745182219.py:4: FutureWarning: Setting an item of incompatible dtype is deprecated and will raise in a future error of pandas. Value '0         0.538559\n",
      "1        -1.083250\n",
      "2         0.538559\n",
      "3        -1.083250\n",
      "4        -1.083250\n",
      "            ...   \n",
      "338023    0.538559\n",
      "338024   -1.083250\n",
      "338025   -1.083250\n",
      "338026    0.538559\n",
      "338027    2.160368\n",
      "Name: Down/Up Ratio, Length: 338028, dtype: float64' has dtype incompatible with int64, please explicitly cast to a compatible dtype first.\n",
      "  df1.iloc[:, :-1] = pd.DataFrame(scaler.fit_transform(df1.iloc[:, :-1]), columns=df1.iloc[:, :-1].columns)\n",
      "/tmp/ipykernel_30002/745182219.py:4: FutureWarning: Setting an item of incompatible dtype is deprecated and will raise in a future error of pandas. Value '0         0.001740\n",
      "1         0.001769\n",
      "2         0.001680\n",
      "3         0.001740\n",
      "4         0.001740\n",
      "            ...   \n",
      "338023    0.001692\n",
      "338024    0.001694\n",
      "338025    0.001694\n",
      "338026    0.001692\n",
      "338027    0.001692\n",
      "Name: Fwd Header Length.1, Length: 338028, dtype: float64' has dtype incompatible with int64, please explicitly cast to a compatible dtype first.\n",
      "  df1.iloc[:, :-1] = pd.DataFrame(scaler.fit_transform(df1.iloc[:, :-1]), columns=df1.iloc[:, :-1].columns)\n",
      "/tmp/ipykernel_30002/745182219.py:4: FutureWarning: Setting an item of incompatible dtype is deprecated and will raise in a future error of pandas. Value '0         0.001356\n",
      "1         0.007455\n",
      "2        -0.010844\n",
      "3         0.001356\n",
      "4         0.001356\n",
      "            ...   \n",
      "338023   -0.006777\n",
      "338024   -0.004744\n",
      "338025   -0.004744\n",
      "338026   -0.006777\n",
      "338027   -0.006777\n",
      "Name: Subflow Fwd Packets, Length: 338028, dtype: float64' has dtype incompatible with int64, please explicitly cast to a compatible dtype first.\n",
      "  df1.iloc[:, :-1] = pd.DataFrame(scaler.fit_transform(df1.iloc[:, :-1]), columns=df1.iloc[:, :-1].columns)\n",
      "/tmp/ipykernel_30002/745182219.py:4: FutureWarning: Setting an item of incompatible dtype is deprecated and will raise in a future error of pandas. Value '0         0.026328\n",
      "1         0.014410\n",
      "2        -0.016263\n",
      "3         0.024120\n",
      "4         0.024286\n",
      "            ...   \n",
      "338023   -0.015180\n",
      "338024   -0.015263\n",
      "338025   -0.015263\n",
      "338026   -0.015180\n",
      "338027   -0.015180\n",
      "Name: Subflow Fwd Bytes, Length: 338028, dtype: float64' has dtype incompatible with int64, please explicitly cast to a compatible dtype first.\n",
      "  df1.iloc[:, :-1] = pd.DataFrame(scaler.fit_transform(df1.iloc[:, :-1]), columns=df1.iloc[:, :-1].columns)\n",
      "/tmp/ipykernel_30002/745182219.py:4: FutureWarning: Setting an item of incompatible dtype is deprecated and will raise in a future error of pandas. Value '0         0.000841\n",
      "1         0.000841\n",
      "2        -0.008196\n",
      "3        -0.002171\n",
      "4        -0.003677\n",
      "            ...   \n",
      "338023   -0.003677\n",
      "338024   -0.009702\n",
      "338025   -0.009702\n",
      "338026   -0.002171\n",
      "338027   -0.000665\n",
      "Name: Subflow Bwd Packets, Length: 338028, dtype: float64' has dtype incompatible with int64, please explicitly cast to a compatible dtype first.\n",
      "  df1.iloc[:, :-1] = pd.DataFrame(scaler.fit_transform(df1.iloc[:, :-1]), columns=df1.iloc[:, :-1].columns)\n",
      "/tmp/ipykernel_30002/745182219.py:4: FutureWarning: Setting an item of incompatible dtype is deprecated and will raise in a future error of pandas. Value '0        -0.004998\n",
      "1         0.000066\n",
      "2        -0.006553\n",
      "3        -0.005595\n",
      "4        -0.005595\n",
      "            ...   \n",
      "338023    0.001218\n",
      "338024   -0.006553\n",
      "338025   -0.006553\n",
      "338026    0.001222\n",
      "338027    0.001218\n",
      "Name: Subflow Bwd Bytes, Length: 338028, dtype: float64' has dtype incompatible with int64, please explicitly cast to a compatible dtype first.\n",
      "  df1.iloc[:, :-1] = pd.DataFrame(scaler.fit_transform(df1.iloc[:, :-1]), columns=df1.iloc[:, :-1].columns)\n",
      "/tmp/ipykernel_30002/745182219.py:4: FutureWarning: Setting an item of incompatible dtype is deprecated and will raise in a future error of pandas. Value '0         1.653144\n",
      "1         1.653144\n",
      "2        -0.585746\n",
      "3         1.653144\n",
      "4         1.653144\n",
      "            ...   \n",
      "338023    0.027337\n",
      "338024   -0.586829\n",
      "338025   -0.586829\n",
      "338026    0.027337\n",
      "338027    0.027337\n",
      "Name: Init_Win_bytes_forward, Length: 338028, dtype: float64' has dtype incompatible with int64, please explicitly cast to a compatible dtype first.\n",
      "  df1.iloc[:, :-1] = pd.DataFrame(scaler.fit_transform(df1.iloc[:, :-1]), columns=df1.iloc[:, :-1].columns)\n",
      "/tmp/ipykernel_30002/745182219.py:4: FutureWarning: Setting an item of incompatible dtype is deprecated and will raise in a future error of pandas. Value '0        -0.132204\n",
      "1        -0.133770\n",
      "2        -0.132204\n",
      "3        -0.133596\n",
      "4        -0.133596\n",
      "            ...   \n",
      "338023   -0.136206\n",
      "338024   -0.176225\n",
      "338025   -0.176225\n",
      "338026   -0.136206\n",
      "338027   -0.136206\n",
      "Name: Init_Win_bytes_backward, Length: 338028, dtype: float64' has dtype incompatible with int64, please explicitly cast to a compatible dtype first.\n",
      "  df1.iloc[:, :-1] = pd.DataFrame(scaler.fit_transform(df1.iloc[:, :-1]), columns=df1.iloc[:, :-1].columns)\n",
      "/tmp/ipykernel_30002/745182219.py:4: FutureWarning: Setting an item of incompatible dtype is deprecated and will raise in a future error of pandas. Value '0        -0.000748\n",
      "1        -0.003222\n",
      "2        -0.008171\n",
      "3        -0.003222\n",
      "4        -0.003222\n",
      "            ...   \n",
      "338023   -0.003222\n",
      "338024   -0.000748\n",
      "338025   -0.000748\n",
      "338026   -0.003222\n",
      "338027   -0.003222\n",
      "Name: act_data_pkt_fwd, Length: 338028, dtype: float64' has dtype incompatible with int64, please explicitly cast to a compatible dtype first.\n",
      "  df1.iloc[:, :-1] = pd.DataFrame(scaler.fit_transform(df1.iloc[:, :-1]), columns=df1.iloc[:, :-1].columns)\n",
      "/tmp/ipykernel_30002/745182219.py:4: FutureWarning: Setting an item of incompatible dtype is deprecated and will raise in a future error of pandas. Value '0         0.001755\n",
      "1         0.001755\n",
      "2         0.001755\n",
      "3         0.001755\n",
      "4         0.001755\n",
      "            ...   \n",
      "338023    0.001672\n",
      "338024    0.001672\n",
      "338025    0.001672\n",
      "338026    0.001672\n",
      "338027    0.001672\n",
      "Name: min_seg_size_forward, Length: 338028, dtype: float64' has dtype incompatible with int64, please explicitly cast to a compatible dtype first.\n",
      "  df1.iloc[:, :-1] = pd.DataFrame(scaler.fit_transform(df1.iloc[:, :-1]), columns=df1.iloc[:, :-1].columns)\n",
      "/tmp/ipykernel_30002/745182219.py:4: FutureWarning: Setting an item of incompatible dtype is deprecated and will raise in a future error of pandas. Value '0        -0.146417\n",
      "1        -0.146417\n",
      "2        -0.146417\n",
      "3        -0.146417\n",
      "4        -0.146417\n",
      "            ...   \n",
      "338023   -0.146417\n",
      "338024   -0.136945\n",
      "338025   -0.145211\n",
      "338026   -0.146417\n",
      "338027   -0.146417\n",
      "Name: Active Max, Length: 338028, dtype: float64' has dtype incompatible with int64, please explicitly cast to a compatible dtype first.\n",
      "  df1.iloc[:, :-1] = pd.DataFrame(scaler.fit_transform(df1.iloc[:, :-1]), columns=df1.iloc[:, :-1].columns)\n",
      "/tmp/ipykernel_30002/745182219.py:4: FutureWarning: Setting an item of incompatible dtype is deprecated and will raise in a future error of pandas. Value '0        -0.123296\n",
      "1        -0.123296\n",
      "2        -0.123296\n",
      "3        -0.123296\n",
      "4        -0.123296\n",
      "            ...   \n",
      "338023   -0.123296\n",
      "338024   -0.110369\n",
      "338025   -0.121649\n",
      "338026   -0.123296\n",
      "338027   -0.123296\n",
      "Name: Active Min, Length: 338028, dtype: float64' has dtype incompatible with int64, please explicitly cast to a compatible dtype first.\n",
      "  df1.iloc[:, :-1] = pd.DataFrame(scaler.fit_transform(df1.iloc[:, :-1]), columns=df1.iloc[:, :-1].columns)\n",
      "/tmp/ipykernel_30002/745182219.py:4: FutureWarning: Setting an item of incompatible dtype is deprecated and will raise in a future error of pandas. Value '0        -0.494804\n",
      "1        -0.494804\n",
      "2        -0.494804\n",
      "3        -0.494804\n",
      "4        -0.494804\n",
      "            ...   \n",
      "338023   -0.494804\n",
      "338024   -0.228310\n",
      "338025   -0.248808\n",
      "338026   -0.494804\n",
      "338027   -0.494804\n",
      "Name: Idle Max, Length: 338028, dtype: float64' has dtype incompatible with int64, please explicitly cast to a compatible dtype first.\n",
      "  df1.iloc[:, :-1] = pd.DataFrame(scaler.fit_transform(df1.iloc[:, :-1]), columns=df1.iloc[:, :-1].columns)\n",
      "/tmp/ipykernel_30002/745182219.py:4: FutureWarning: Setting an item of incompatible dtype is deprecated and will raise in a future error of pandas. Value '0        -0.462497\n",
      "1        -0.462497\n",
      "2        -0.462497\n",
      "3        -0.462497\n",
      "4        -0.462497\n",
      "            ...   \n",
      "338023   -0.462497\n",
      "338024   -0.184656\n",
      "338025   -0.206027\n",
      "338026   -0.462497\n",
      "338027   -0.462497\n",
      "Name: Idle Min, Length: 338028, dtype: float64' has dtype incompatible with int64, please explicitly cast to a compatible dtype first.\n",
      "  df1.iloc[:, :-1] = pd.DataFrame(scaler.fit_transform(df1.iloc[:, :-1]), columns=df1.iloc[:, :-1].columns)\n"
     ]
    }
   ],
   "source": [
    "from sklearn.preprocessing import StandardScaler\n",
    "#Scaling every column in the dataframe\n",
    "scaler = StandardScaler()\n",
    "df1.iloc[:, :-1] = pd.DataFrame(scaler.fit_transform(df1.iloc[:, :-1]), columns=df1.iloc[:, :-1].columns)"
   ]
  },
  {
   "cell_type": "code",
   "execution_count": 10,
   "metadata": {
    "id": "YovrtfMGk3PW"
   },
   "outputs": [],
   "source": [
    "correlation = df1.select_dtypes(include='float64').corr().abs()"
   ]
  },
  {
   "cell_type": "code",
   "execution_count": 11,
   "metadata": {
    "colab": {
     "base_uri": "https://localhost:8080/"
    },
    "id": "_rgwA-kPbcSo",
    "outputId": "bbe21621-7506-48f9-e847-326e17ab88d7"
   },
   "outputs": [
    {
     "name": "stdout",
     "output_type": "stream",
     "text": [
      "<class 'pandas.core.frame.DataFrame'>\n",
      "RangeIndex: 338028 entries, 0 to 338027\n",
      "Data columns (total 41 columns):\n",
      " #   Column                       Non-Null Count   Dtype  \n",
      "---  ------                       --------------   -----  \n",
      " 0   Flow Duration                338028 non-null  float64\n",
      " 1   Total Fwd Packets            338028 non-null  float64\n",
      " 2   Total Length of Fwd Packets  338028 non-null  float64\n",
      " 3   Fwd Packet Length Max        338028 non-null  float64\n",
      " 4   Fwd Packet Length Min        338028 non-null  float64\n",
      " 5   Fwd Packet Length Mean       338028 non-null  float64\n",
      " 6   Bwd Packet Length Max        338028 non-null  float64\n",
      " 7   Bwd Packet Length Min        338028 non-null  float64\n",
      " 8   Flow Bytes/s                 338028 non-null  float64\n",
      " 9   Flow Packets/s               338028 non-null  float64\n",
      " 10  Flow IAT Mean                338028 non-null  float64\n",
      " 11  Flow IAT Std                 338028 non-null  float64\n",
      " 12  Flow IAT Min                 338028 non-null  float64\n",
      " 13  Fwd IAT Mean                 338028 non-null  float64\n",
      " 14  Fwd IAT Min                  338028 non-null  float64\n",
      " 15  Bwd IAT Total                338028 non-null  float64\n",
      " 16  Bwd IAT Mean                 338028 non-null  float64\n",
      " 17  Bwd IAT Std                  338028 non-null  float64\n",
      " 18  Bwd IAT Max                  338028 non-null  float64\n",
      " 19  Bwd IAT Min                  338028 non-null  float64\n",
      " 20  Fwd PSH Flags                338028 non-null  float64\n",
      " 21  Fwd URG Flags                338028 non-null  float64\n",
      " 22  Fwd Header Length            338028 non-null  float64\n",
      " 23  Fwd Packets/s                338028 non-null  float64\n",
      " 24  Bwd Packets/s                338028 non-null  float64\n",
      " 25  Min Packet Length            338028 non-null  float64\n",
      " 26  Packet Length Variance       338028 non-null  float64\n",
      " 27  FIN Flag Count               338028 non-null  float64\n",
      " 28  RST Flag Count               338028 non-null  float64\n",
      " 29  PSH Flag Count               338028 non-null  float64\n",
      " 30  ACK Flag Count               338028 non-null  float64\n",
      " 31  URG Flag Count               338028 non-null  float64\n",
      " 32  Down/Up Ratio                338028 non-null  float64\n",
      " 33  Init_Win_bytes_forward       338028 non-null  float64\n",
      " 34  Init_Win_bytes_backward      338028 non-null  float64\n",
      " 35  Active Mean                  338028 non-null  float64\n",
      " 36  Active Std                   338028 non-null  float64\n",
      " 37  Active Max                   338028 non-null  float64\n",
      " 38  Active Min                   338028 non-null  float64\n",
      " 39  Idle Std                     338028 non-null  float64\n",
      " 40  Label                        338028 non-null  int64  \n",
      "dtypes: float64(40), int64(1)\n",
      "memory usage: 105.7 MB\n"
     ]
    }
   ],
   "source": [
    "upper_triangle = correlation.where(np.triu(np.ones(correlation.shape), k=1).astype(bool))\n",
    "\n",
    "to_drop = [column for column in upper_triangle.columns if any(upper_triangle[column] > 0.95)]\n",
    "\n",
    "to_drop.append('Destination Port')\n",
    "to_drop.append('act_data_pkt_fwd')\n",
    "df = df1.drop(columns=to_drop)\n",
    "\n",
    "df.info()"
   ]
  },
  {
   "cell_type": "code",
   "execution_count": 12,
   "metadata": {
    "id": "rTbIBPzMk5Sq"
   },
   "outputs": [],
   "source": [
    "from sklearn.model_selection import train_test_split"
   ]
  },
  {
   "cell_type": "code",
   "execution_count": 13,
   "metadata": {
    "id": "oe9Mk2r4k7ZT"
   },
   "outputs": [],
   "source": [
    "X = df.iloc[:, :-1]\n",
    "y = df.iloc[:,-1]\n",
    "\n",
    "X_train, X_test, y_train, y_test = train_test_split(X, y, test_size=0.2)"
   ]
  },
  {
   "cell_type": "markdown",
   "metadata": {
    "id": "H_d43avpBFuc"
   },
   "source": [
    "# Logistic Regression"
   ]
  },
  {
   "cell_type": "code",
   "execution_count": 14,
   "metadata": {
    "id": "AJNGcaBMk9Wz"
   },
   "outputs": [],
   "source": [
    "from sklearn.linear_model import LogisticRegression\n",
    "\n",
    "model = LogisticRegression(max_iter=2000000)\n",
    "y_score = model.fit(X_train, y_train).predict_proba(X_test)"
   ]
  },
  {
   "cell_type": "code",
   "execution_count": 15,
   "metadata": {
    "colab": {
     "base_uri": "https://localhost:8080/"
    },
    "id": "cvkIb8QklAQI",
    "outputId": "300146d7-b001-4729-8d52-ee8aec56593e"
   },
   "outputs": [
    {
     "data": {
      "text/plain": [
       "['regression_model.joblib']"
      ]
     },
     "execution_count": 15,
     "metadata": {},
     "output_type": "execute_result"
    }
   ],
   "source": [
    "import joblib\n",
    "\n",
    "joblib.dump(model, 'regression_model.joblib')"
   ]
  },
  {
   "cell_type": "code",
   "execution_count": 16,
   "metadata": {
    "id": "X0S68zXqBfuf"
   },
   "outputs": [],
   "source": [
    "y_pred = model.predict(X_test)"
   ]
  },
  {
   "cell_type": "code",
   "execution_count": 17,
   "metadata": {
    "colab": {
     "base_uri": "https://localhost:8080/"
    },
    "id": "udkbD8oOBVS2",
    "outputId": "18eae73c-e928-45ce-a4f8-35de453ee85c"
   },
   "outputs": [
    {
     "name": "stdout",
     "output_type": "stream",
     "text": [
      "Accuracy: 0.9377274206431382\n",
      "Recall: [0.86189617 0.78597122 0.99737472 0.97783205 0.01785714 0.99847853\n",
      " 0.85714286]\n",
      "Precision: [0.93098782 0.83301563 0.97856061 0.90558488 0.31818182 0.97073767\n",
      " 0.76518219]\n",
      "F1 Score: [0.89511072 0.80880992 0.98787809 0.94032277 0.03381643 0.9844127\n",
      " 0.80855615]\n"
     ]
    }
   ],
   "source": [
    "from sklearn.metrics import accuracy_score, recall_score, precision_score, f1_score\n",
    "\n",
    "#y_pred = model.predict(X_test)\n",
    "\n",
    "rec = recall_score(y_test, y_pred, average=None)\n",
    "pre = precision_score(y_test, y_pred, average=None)\n",
    "f1 = f1_score(y_test, y_pred, average=None)\n",
    "print(f'Accuracy: {accuracy_score(y_test, y_pred)}')\n",
    "print(f'Recall: {rec}')\n",
    "print(f'Precision: {pre}')\n",
    "print(f'F1 Score: {f1}')"
   ]
  },
  {
   "cell_type": "markdown",
   "metadata": {
    "id": "djXJyHQlBPqD"
   },
   "source": [
    "# XGBoost"
   ]
  },
  {
   "cell_type": "code",
   "execution_count": 18,
   "metadata": {
    "id": "9PZxTWIOefcb"
   },
   "outputs": [],
   "source": [
    "import xgboost as xgb\n",
    "\n",
    "dtrain = xgb.DMatrix(X_train, label=y_train)\n",
    "dtest = xgb.DMatrix(X_test, label=y_test)\n",
    "\n",
    "params = {\n",
    "    'objective': 'multi:softmax',\n",
    "    'num_class': 7,\n",
    "    'max_depth': 5,\n",
    "    'eta': 0.1,\n",
    "    'subsample': 0.8,\n",
    "    'colsample_bytree': 0.8,\n",
    "    'seed': 42\n",
    "}\n",
    "\n",
    "num_round = 100  # Number of boosting iterations\n",
    "bst = xgb.train(params, dtrain, num_round)\n",
    "\n",
    "y_pred = bst.predict(dtest)"
   ]
  },
  {
   "cell_type": "code",
   "execution_count": 59,
   "metadata": {
    "colab": {
     "base_uri": "https://localhost:8080/"
    },
    "id": "LqJ7J6MglCNb",
    "outputId": "46ec3cd6-1204-4b4f-d5fd-fab8b961e339"
   },
   "outputs": [
    {
     "name": "stdout",
     "output_type": "stream",
     "text": [
      "Accuracy: 0.9988314646628997\n",
      "Recall: [0.99816103 0.9981838  0.99954104 0.99968662 0.97       0.99959596\n",
      " 0.98241758]\n",
      "Precision: [0.99870705 0.99963623 0.99992348 0.99812265 0.97979798 0.99925951\n",
      " 0.99554566]\n",
      "F1 Score: [0.99843397 0.99890949 0.99973222 0.99890402 0.97487437 0.99942771\n",
      " 0.98893805]\n"
     ]
    }
   ],
   "source": [
    "from sklearn.metrics import accuracy_score, recall_score, precision_score, f1_score\n",
    "\n",
    "#y_pred = model.predict(X_test)\n",
    "\n",
    "rec = recall_score(y_test, y_pred, average=None)\n",
    "pre = precision_score(y_test, y_pred, average=None)\n",
    "f1 = f1_score(y_test, y_pred, average=None)\n",
    "print(f'Accuracy: {accuracy_score(y_test, y_pred)}')\n",
    "print(f'Recall: {rec}')\n",
    "print(f'Precision: {pre}')\n",
    "print(f'F1 Score: {f1}')"
   ]
  },
  {
   "cell_type": "code",
   "execution_count": 60,
   "metadata": {
    "colab": {
     "base_uri": "https://localhost:8080/"
    },
    "id": "JKoLuNY3Gzi2",
    "outputId": "51016780-9df8-4bb9-ce3e-889a9953d970"
   },
   "outputs": [
    {
     "data": {
      "text/plain": [
       "['xgboost_model.joblib']"
      ]
     },
     "execution_count": 60,
     "metadata": {},
     "output_type": "execute_result"
    }
   ],
   "source": [
    "joblib.dump(bst, 'xgboost_model.joblib')"
   ]
  },
  {
   "cell_type": "code",
   "execution_count": null,
   "metadata": {
    "colab": {
     "base_uri": "https://localhost:8080/",
     "height": 493
    },
    "id": "vnIw1em3CAHb",
    "outputId": "957e30e2-fa6c-4f02-b33e-ac0d3fed8364"
   },
   "outputs": [
    {
     "data": {
      "image/png": "[encoded data removed]",
      "text/plain": [
       "<Figure size 640x480 with 1 Axes>"
      ]
     },
     "metadata": {},
     "output_type": "display_data"
    }
   ],
   "source": [
    "from sklearn.preprocessing import LabelBinarizer\n",
    "\n",
    "label_binarizer = LabelBinarizer().fit(y_train)\n",
    "y_onehot_test = label_binarizer.transform(y_test)\n",
    "y_onehot_test.shape\n",
    "\n",
    "class_of_interest = 'BENIGN'\n",
    "#class_id = np.flatnonzero(label_binarizer.classes_ == class_of_interest)[0]\n",
    "class_id = 0\n",
    "\n",
    "from sklearn.metrics import RocCurveDisplay\n",
    "\n",
    "display = RocCurveDisplay.from_predictions(\n",
    "    y_onehot_test[:, class_id],\n",
    "    y_score[:, class_id],\n",
    "    name=f\"{class_of_interest} vs the rest\",\n",
    "    color=\"darkorange\",\n",
    "    plot_chance_level=True,\n",
    ")\n",
    "_ = display.ax_.set(\n",
    "    xlabel=\"False Positive Rate\",\n",
    "    ylabel=\"True Positive Rate\",\n",
    "    title=\"One-vs-Rest ROC curves:\\nBenign vs (Attack)\",\n",
    ")"
   ]
  },
  {
   "cell_type": "markdown",
   "metadata": {
    "id": "bz25uoz1BZte"
   },
   "source": [
    "#Neural Network"
   ]
  },
  {
   "cell_type": "code",
   "execution_count": 11,
   "metadata": {
    "id": "QH8smU2aiZoc"
   },
   "outputs": [],
   "source": [
    "import tensorflow as tf\n",
    "from tensorflow.keras import layers"
   ]
  },
  {
   "cell_type": "code",
   "execution_count": 84,
   "metadata": {
    "id": "I5tzXd3aG_Rg"
   },
   "outputs": [],
   "source": [
    "model = tf.keras.Sequential(\n",
    "    [layers.InputLayer(shape=(41,)),\n",
    "     layers.Dense(128, activation='relu'),\n",
    "     layers.Dense(128,activation='relu'),\n",
    "     layers.Dense(7, activation='softmax')]\n",
    ")"
   ]
  },
  {
   "cell_type": "code",
   "execution_count": 85,
   "metadata": {
    "colab": {
     "base_uri": "https://localhost:8080/",
     "height": 225
    },
    "id": "x0r-ULWEGc6x",
    "outputId": "53a1e3c5-9d22-49d5-f893-0d7ce475ec7f"
   },
   "outputs": [
    {
     "data": {
      "text/html": [
       "<pre style=\"white-space:pre;overflow-x:auto;line-height:normal;font-family:Menlo,'DejaVu Sans Mono',consolas,'Courier New',monospace\"><span style=\"font-weight: bold\">Model: \"sequential_5\"</span>\n",
       "</pre>\n"
      ],
      "text/plain": [
       "\u001b[1mModel: \"sequential_5\"\u001b[0m\n"
      ]
     },
     "metadata": {},
     "output_type": "display_data"
    },
    {
     "data": {
      "text/html": [
       "<pre style=\"white-space:pre;overflow-x:auto;line-height:normal;font-family:Menlo,'DejaVu Sans Mono',consolas,'Courier New',monospace\">┏━━━━━━━━━━━━━━━━━━━━━━━━━━━━━━━━━━━━━━┳━━━━━━━━━━━━━━━━━━━━━━━━━━━━━┳━━━━━━━━━━━━━━━━━┓\n",
       "┃<span style=\"font-weight: bold\"> Layer (type)                         </span>┃<span style=\"font-weight: bold\"> Output Shape                </span>┃<span style=\"font-weight: bold\">         Param # </span>┃\n",
       "┡━━━━━━━━━━━━━━━━━━━━━━━━━━━━━━━━━━━━━━╇━━━━━━━━━━━━━━━━━━━━━━━━━━━━━╇━━━━━━━━━━━━━━━━━┩\n",
       "│ dense_19 (<span style=\"color: #0087ff; text-decoration-color: #0087ff\">Dense</span>)                     │ (<span style=\"color: #00d7ff; text-decoration-color: #00d7ff\">None</span>, <span style=\"color: #00af00; text-decoration-color: #00af00\">128</span>)                 │           <span style=\"color: #00af00; text-decoration-color: #00af00\">5,376</span> │\n",
       "├──────────────────────────────────────┼─────────────────────────────┼─────────────────┤\n",
       "│ dense_20 (<span style=\"color: #0087ff; text-decoration-color: #0087ff\">Dense</span>)                     │ (<span style=\"color: #00d7ff; text-decoration-color: #00d7ff\">None</span>, <span style=\"color: #00af00; text-decoration-color: #00af00\">128</span>)                 │          <span style=\"color: #00af00; text-decoration-color: #00af00\">16,512</span> │\n",
       "├──────────────────────────────────────┼─────────────────────────────┼─────────────────┤\n",
       "│ dense_21 (<span style=\"color: #0087ff; text-decoration-color: #0087ff\">Dense</span>)                     │ (<span style=\"color: #00d7ff; text-decoration-color: #00d7ff\">None</span>, <span style=\"color: #00af00; text-decoration-color: #00af00\">7</span>)                   │             <span style=\"color: #00af00; text-decoration-color: #00af00\">903</span> │\n",
       "└──────────────────────────────────────┴─────────────────────────────┴─────────────────┘\n",
       "</pre>\n"
      ],
      "text/plain": [
       "┏━━━━━━━━━━━━━━━━━━━━━━━━━━━━━━━━━━━━━━┳━━━━━━━━━━━━━━━━━━━━━━━━━━━━━┳━━━━━━━━━━━━━━━━━┓\n",
       "┃\u001b[1m \u001b[0m\u001b[1mLayer (type)                        \u001b[0m\u001b[1m \u001b[0m┃\u001b[1m \u001b[0m\u001b[1mOutput Shape               \u001b[0m\u001b[1m \u001b[0m┃\u001b[1m \u001b[0m\u001b[1m        Param #\u001b[0m\u001b[1m \u001b[0m┃\n",
       "┡━━━━━━━━━━━━━━━━━━━━━━━━━━━━━━━━━━━━━━╇━━━━━━━━━━━━━━━━━━━━━━━━━━━━━╇━━━━━━━━━━━━━━━━━┩\n",
       "│ dense_19 (\u001b[38;5;33mDense\u001b[0m)                     │ (\u001b[38;5;45mNone\u001b[0m, \u001b[38;5;34m128\u001b[0m)                 │           \u001b[38;5;34m5,376\u001b[0m │\n",
       "├──────────────────────────────────────┼─────────────────────────────┼─────────────────┤\n",
       "│ dense_20 (\u001b[38;5;33mDense\u001b[0m)                     │ (\u001b[38;5;45mNone\u001b[0m, \u001b[38;5;34m128\u001b[0m)                 │          \u001b[38;5;34m16,512\u001b[0m │\n",
       "├──────────────────────────────────────┼─────────────────────────────┼─────────────────┤\n",
       "│ dense_21 (\u001b[38;5;33mDense\u001b[0m)                     │ (\u001b[38;5;45mNone\u001b[0m, \u001b[38;5;34m7\u001b[0m)                   │             \u001b[38;5;34m903\u001b[0m │\n",
       "└──────────────────────────────────────┴─────────────────────────────┴─────────────────┘\n"
      ]
     },
     "metadata": {},
     "output_type": "display_data"
    },
    {
     "data": {
      "text/html": [
       "<pre style=\"white-space:pre;overflow-x:auto;line-height:normal;font-family:Menlo,'DejaVu Sans Mono',consolas,'Courier New',monospace\"><span style=\"font-weight: bold\"> Total params: </span><span style=\"color: #00af00; text-decoration-color: #00af00\">22,791</span> (89.03 KB)\n",
       "</pre>\n"
      ],
      "text/plain": [
       "\u001b[1m Total params: \u001b[0m\u001b[38;5;34m22,791\u001b[0m (89.03 KB)\n"
      ]
     },
     "metadata": {},
     "output_type": "display_data"
    },
    {
     "data": {
      "text/html": [
       "<pre style=\"white-space:pre;overflow-x:auto;line-height:normal;font-family:Menlo,'DejaVu Sans Mono',consolas,'Courier New',monospace\"><span style=\"font-weight: bold\"> Trainable params: </span><span style=\"color: #00af00; text-decoration-color: #00af00\">22,791</span> (89.03 KB)\n",
       "</pre>\n"
      ],
      "text/plain": [
       "\u001b[1m Trainable params: \u001b[0m\u001b[38;5;34m22,791\u001b[0m (89.03 KB)\n"
      ]
     },
     "metadata": {},
     "output_type": "display_data"
    },
    {
     "data": {
      "text/html": [
       "<pre style=\"white-space:pre;overflow-x:auto;line-height:normal;font-family:Menlo,'DejaVu Sans Mono',consolas,'Courier New',monospace\"><span style=\"font-weight: bold\"> Non-trainable params: </span><span style=\"color: #00af00; text-decoration-color: #00af00\">0</span> (0.00 B)\n",
       "</pre>\n"
      ],
      "text/plain": [
       "\u001b[1m Non-trainable params: \u001b[0m\u001b[38;5;34m0\u001b[0m (0.00 B)\n"
      ]
     },
     "metadata": {},
     "output_type": "display_data"
    }
   ],
   "source": [
    "model.summary()"
   ]
  },
  {
   "cell_type": "code",
   "execution_count": 87,
   "metadata": {
    "id": "gHI1VVYcGdmg"
   },
   "outputs": [],
   "source": [
    "model.compile(optimizer = 'adam', loss='categorical_crossentropy', metrics=['accuracy', 'precision', 'recall', 'f1_score'])"
   ]
  },
  {
   "cell_type": "code",
   "execution_count": 88,
   "metadata": {
    "id": "kgwlZlHtHYlb"
   },
   "outputs": [],
   "source": [
    "from sklearn.preprocessing import OneHotEncoder\n",
    "\n",
    "y_onehot_train = OneHotEncoder().fit_transform(y_train.values.reshape(-1,1)).toarray()"
   ]
  },
  {
   "cell_type": "code",
   "execution_count": 89,
   "metadata": {
    "colab": {
     "base_uri": "https://localhost:8080/"
    },
    "id": "ygY6of1WGu4d",
    "outputId": "53389573-2511-4584-c736-b8f7d5f83437"
   },
   "outputs": [
    {
     "name": "stdout",
     "output_type": "stream",
     "text": [
      "Epoch 1/30\n",
      "\u001b[1m3381/3381\u001b[0m \u001b[32m━━━━━━━━━━━━━━━━━━━━\u001b[0m\u001b[37m\u001b[0m \u001b[1m17s\u001b[0m 4ms/step - accuracy: 0.9184 - f1_score: 0.7490 - loss: 0.2623 - precision: 0.9440 - recall: 0.8857 - val_accuracy: 0.9707 - val_f1_score: 0.9136 - val_loss: 0.1009 - val_precision: 0.9722 - val_recall: 0.9688\n",
      "Epoch 2/30\n",
      "\u001b[1m3381/3381\u001b[0m \u001b[32m━━━━━━━━━━━━━━━━━━━━\u001b[0m\u001b[37m\u001b[0m \u001b[1m17s\u001b[0m 3ms/step - accuracy: 0.9654 - f1_score: 0.8999 - loss: 0.0996 - precision: 0.9667 - recall: 0.9643 - val_accuracy: 0.9668 - val_f1_score: 0.9075 - val_loss: 0.1009 - val_precision: 0.9670 - val_recall: 0.9667\n",
      "Epoch 3/30\n",
      "\u001b[1m3381/3381\u001b[0m \u001b[32m━━━━━━━━━━━━━━━━━━━━\u001b[0m\u001b[37m\u001b[0m \u001b[1m11s\u001b[0m 3ms/step - accuracy: 0.9702 - f1_score: 0.9080 - loss: 0.0888 - precision: 0.9709 - recall: 0.9696 - val_accuracy: 0.9716 - val_f1_score: 0.9140 - val_loss: 0.0980 - val_precision: 0.9720 - val_recall: 0.9712\n",
      "Epoch 4/30\n",
      "\u001b[1m3381/3381\u001b[0m \u001b[32m━━━━━━━━━━━━━━━━━━━━\u001b[0m\u001b[37m\u001b[0m \u001b[1m18s\u001b[0m 3ms/step - accuracy: 0.9719 - f1_score: 0.9095 - loss: 0.0818 - precision: 0.9725 - recall: 0.9714 - val_accuracy: 0.9759 - val_f1_score: 0.9203 - val_loss: 0.0896 - val_precision: 0.9763 - val_recall: 0.9758\n",
      "Epoch 5/30\n",
      "\u001b[1m3381/3381\u001b[0m \u001b[32m━━━━━━━━━━━━━━━━━━━━\u001b[0m\u001b[37m\u001b[0m \u001b[1m12s\u001b[0m 3ms/step - accuracy: 0.9740 - f1_score: 0.9197 - loss: 0.0772 - precision: 0.9745 - recall: 0.9735 - val_accuracy: 0.9767 - val_f1_score: 0.9235 - val_loss: 0.0895 - val_precision: 0.9771 - val_recall: 0.9762\n",
      "Epoch 6/30\n",
      "\u001b[1m3381/3381\u001b[0m \u001b[32m━━━━━━━━━━━━━━━━━━━━\u001b[0m\u001b[37m\u001b[0m \u001b[1m19s\u001b[0m 3ms/step - accuracy: 0.9749 - f1_score: 0.9190 - loss: 0.0735 - precision: 0.9752 - recall: 0.9746 - val_accuracy: 0.9745 - val_f1_score: 0.9076 - val_loss: 0.0929 - val_precision: 0.9757 - val_recall: 0.9734\n",
      "Epoch 7/30\n",
      "\u001b[1m3381/3381\u001b[0m \u001b[32m━━━━━━━━━━━━━━━━━━━━\u001b[0m\u001b[37m\u001b[0m \u001b[1m9s\u001b[0m 3ms/step - accuracy: 0.9746 - f1_score: 0.9152 - loss: 0.0730 - precision: 0.9750 - recall: 0.9741 - val_accuracy: 0.9765 - val_f1_score: 0.9249 - val_loss: 0.0904 - val_precision: 0.9769 - val_recall: 0.9763\n",
      "Epoch 8/30\n",
      "\u001b[1m3381/3381\u001b[0m \u001b[32m━━━━━━━━━━━━━━━━━━━━\u001b[0m\u001b[37m\u001b[0m \u001b[1m11s\u001b[0m 3ms/step - accuracy: 0.9753 - f1_score: 0.9190 - loss: 0.0708 - precision: 0.9758 - recall: 0.9749 - val_accuracy: 0.9769 - val_f1_score: 0.9242 - val_loss: 0.0904 - val_precision: 0.9771 - val_recall: 0.9768\n",
      "Epoch 9/30\n",
      "\u001b[1m3381/3381\u001b[0m \u001b[32m━━━━━━━━━━━━━━━━━━━━\u001b[0m\u001b[37m\u001b[0m \u001b[1m12s\u001b[0m 3ms/step - accuracy: 0.9760 - f1_score: 0.9197 - loss: 0.0684 - precision: 0.9762 - recall: 0.9757 - val_accuracy: 0.9777 - val_f1_score: 0.9250 - val_loss: 0.1005 - val_precision: 0.9786 - val_recall: 0.9768\n",
      "Epoch 10/30\n",
      "\u001b[1m3381/3381\u001b[0m \u001b[32m━━━━━━━━━━━━━━━━━━━━\u001b[0m\u001b[37m\u001b[0m \u001b[1m19s\u001b[0m 3ms/step - accuracy: 0.9764 - f1_score: 0.9197 - loss: 0.0667 - precision: 0.9769 - recall: 0.9761 - val_accuracy: 0.9769 - val_f1_score: 0.9228 - val_loss: 0.0916 - val_precision: 0.9771 - val_recall: 0.9767\n",
      "Epoch 11/30\n",
      "\u001b[1m3381/3381\u001b[0m \u001b[32m━━━━━━━━━━━━━━━━━━━━\u001b[0m\u001b[37m\u001b[0m \u001b[1m9s\u001b[0m 3ms/step - accuracy: 0.9777 - f1_score: 0.9248 - loss: 0.0652 - precision: 0.9780 - recall: 0.9774 - val_accuracy: 0.9797 - val_f1_score: 0.9263 - val_loss: 0.1112 - val_precision: 0.9805 - val_recall: 0.9789\n",
      "Epoch 12/30\n",
      "\u001b[1m3381/3381\u001b[0m \u001b[32m━━━━━━━━━━━━━━━━━━━━\u001b[0m\u001b[37m\u001b[0m \u001b[1m10s\u001b[0m 3ms/step - accuracy: 0.9792 - f1_score: 0.9240 - loss: 0.0573 - precision: 0.9795 - recall: 0.9788 - val_accuracy: 0.9758 - val_f1_score: 0.8207 - val_loss: 0.1258 - val_precision: 0.9762 - val_recall: 0.9758\n",
      "Epoch 13/30\n",
      "\u001b[1m3381/3381\u001b[0m \u001b[32m━━━━━━━━━━━━━━━━━━━━\u001b[0m\u001b[37m\u001b[0m \u001b[1m21s\u001b[0m 3ms/step - accuracy: 0.9797 - f1_score: 0.9217 - loss: 0.0558 - precision: 0.9799 - recall: 0.9793 - val_accuracy: 0.9788 - val_f1_score: 0.9285 - val_loss: 0.1105 - val_precision: 0.9792 - val_recall: 0.9787\n",
      "Epoch 14/30\n",
      "\u001b[1m3381/3381\u001b[0m \u001b[32m━━━━━━━━━━━━━━━━━━━━\u001b[0m\u001b[37m\u001b[0m \u001b[1m19s\u001b[0m 3ms/step - accuracy: 0.9806 - f1_score: 0.9258 - loss: 0.0538 - precision: 0.9808 - recall: 0.9803 - val_accuracy: 0.9799 - val_f1_score: 0.9264 - val_loss: 0.0905 - val_precision: 0.9803 - val_recall: 0.9798\n",
      "Epoch 15/30\n",
      "\u001b[1m3381/3381\u001b[0m \u001b[32m━━━━━━━━━━━━━━━━━━━━\u001b[0m\u001b[37m\u001b[0m \u001b[1m11s\u001b[0m 3ms/step - accuracy: 0.9811 - f1_score: 0.9275 - loss: 0.0532 - precision: 0.9814 - recall: 0.9808 - val_accuracy: 0.9808 - val_f1_score: 0.9287 - val_loss: 0.0723 - val_precision: 0.9812 - val_recall: 0.9804\n",
      "Epoch 16/30\n",
      "\u001b[1m3381/3381\u001b[0m \u001b[32m━━━━━━━━━━━━━━━━━━━━\u001b[0m\u001b[37m\u001b[0m \u001b[1m10s\u001b[0m 3ms/step - accuracy: 0.9805 - f1_score: 0.9266 - loss: 0.0534 - precision: 0.9808 - recall: 0.9803 - val_accuracy: 0.9775 - val_f1_score: 0.9266 - val_loss: 0.0850 - val_precision: 0.9780 - val_recall: 0.9771\n",
      "Epoch 17/30\n",
      "\u001b[1m3381/3381\u001b[0m \u001b[32m━━━━━━━━━━━━━━━━━━━━\u001b[0m\u001b[37m\u001b[0m \u001b[1m20s\u001b[0m 3ms/step - accuracy: 0.9799 - f1_score: 0.9248 - loss: 0.0581 - precision: 0.9802 - recall: 0.9795 - val_accuracy: 0.9807 - val_f1_score: 0.9286 - val_loss: 0.0695 - val_precision: 0.9807 - val_recall: 0.9805\n",
      "Epoch 18/30\n",
      "\u001b[1m3381/3381\u001b[0m \u001b[32m━━━━━━━━━━━━━━━━━━━━\u001b[0m\u001b[37m\u001b[0m \u001b[1m11s\u001b[0m 3ms/step - accuracy: 0.9813 - f1_score: 0.9267 - loss: 0.0522 - precision: 0.9815 - recall: 0.9811 - val_accuracy: 0.9813 - val_f1_score: 0.9307 - val_loss: 0.0684 - val_precision: 0.9815 - val_recall: 0.9813\n",
      "Epoch 19/30\n",
      "\u001b[1m3381/3381\u001b[0m \u001b[32m━━━━━━━━━━━━━━━━━━━━\u001b[0m\u001b[37m\u001b[0m \u001b[1m12s\u001b[0m 3ms/step - accuracy: 0.9806 - f1_score: 0.9256 - loss: 0.0525 - precision: 0.9809 - recall: 0.9804 - val_accuracy: 0.9812 - val_f1_score: 0.9293 - val_loss: 0.0735 - val_precision: 0.9814 - val_recall: 0.9812\n",
      "Epoch 20/30\n",
      "\u001b[1m3381/3381\u001b[0m \u001b[32m━━━━━━━━━━━━━━━━━━━━\u001b[0m\u001b[37m\u001b[0m \u001b[1m21s\u001b[0m 3ms/step - accuracy: 0.9813 - f1_score: 0.9295 - loss: 0.0508 - precision: 0.9816 - recall: 0.9811 - val_accuracy: 0.9800 - val_f1_score: 0.9281 - val_loss: 0.0760 - val_precision: 0.9802 - val_recall: 0.9798\n",
      "Epoch 21/30\n",
      "\u001b[1m3381/3381\u001b[0m \u001b[32m━━━━━━━━━━━━━━━━━━━━\u001b[0m\u001b[37m\u001b[0m \u001b[1m11s\u001b[0m 3ms/step - accuracy: 0.9813 - f1_score: 0.9275 - loss: 0.0509 - precision: 0.9815 - recall: 0.9810 - val_accuracy: 0.9805 - val_f1_score: 0.9278 - val_loss: 0.0737 - val_precision: 0.9814 - val_recall: 0.9794\n",
      "Epoch 22/30\n",
      "\u001b[1m3381/3381\u001b[0m \u001b[32m━━━━━━━━━━━━━━━━━━━━\u001b[0m\u001b[37m\u001b[0m \u001b[1m20s\u001b[0m 3ms/step - accuracy: 0.9810 - f1_score: 0.9287 - loss: 0.0531 - precision: 0.9812 - recall: 0.9806 - val_accuracy: 0.9826 - val_f1_score: 0.9318 - val_loss: 0.0953 - val_precision: 0.9829 - val_recall: 0.9822\n",
      "Epoch 23/30\n",
      "\u001b[1m3381/3381\u001b[0m \u001b[32m━━━━━━━━━━━━━━━━━━━━\u001b[0m\u001b[37m\u001b[0m \u001b[1m11s\u001b[0m 3ms/step - accuracy: 0.9815 - f1_score: 0.9264 - loss: 0.0526 - precision: 0.9817 - recall: 0.9813 - val_accuracy: 0.9825 - val_f1_score: 0.9324 - val_loss: 0.0959 - val_precision: 0.9830 - val_recall: 0.9822\n",
      "Epoch 24/30\n",
      "\u001b[1m3381/3381\u001b[0m \u001b[32m━━━━━━━━━━━━━━━━━━━━\u001b[0m\u001b[37m\u001b[0m \u001b[1m21s\u001b[0m 3ms/step - accuracy: 0.9819 - f1_score: 0.9312 - loss: 0.0499 - precision: 0.9822 - recall: 0.9815 - val_accuracy: 0.9823 - val_f1_score: 0.9331 - val_loss: 0.0851 - val_precision: 0.9824 - val_recall: 0.9821\n",
      "Epoch 25/30\n",
      "\u001b[1m3381/3381\u001b[0m \u001b[32m━━━━━━━━━━━━━━━━━━━━\u001b[0m\u001b[37m\u001b[0m \u001b[1m20s\u001b[0m 3ms/step - accuracy: 0.9823 - f1_score: 0.9281 - loss: 0.0493 - precision: 0.9825 - recall: 0.9820 - val_accuracy: 0.9800 - val_f1_score: 0.9287 - val_loss: 0.0971 - val_precision: 0.9803 - val_recall: 0.9799\n",
      "Epoch 26/30\n",
      "\u001b[1m3381/3381\u001b[0m \u001b[32m━━━━━━━━━━━━━━━━━━━━\u001b[0m\u001b[37m\u001b[0m \u001b[1m10s\u001b[0m 3ms/step - accuracy: 0.9825 - f1_score: 0.9278 - loss: 0.0486 - precision: 0.9827 - recall: 0.9823 - val_accuracy: 0.9823 - val_f1_score: 0.9337 - val_loss: 0.1209 - val_precision: 0.9824 - val_recall: 0.9820\n",
      "Epoch 27/30\n",
      "\u001b[1m3381/3381\u001b[0m \u001b[32m━━━━━━━━━━━━━━━━━━━━\u001b[0m\u001b[37m\u001b[0m \u001b[1m10s\u001b[0m 3ms/step - accuracy: 0.9824 - f1_score: 0.9322 - loss: 0.0490 - precision: 0.9825 - recall: 0.9821 - val_accuracy: 0.9821 - val_f1_score: 0.9331 - val_loss: 0.0659 - val_precision: 0.9823 - val_recall: 0.9819\n",
      "Epoch 28/30\n",
      "\u001b[1m3381/3381\u001b[0m \u001b[32m━━━━━━━━━━━━━━━━━━━━\u001b[0m\u001b[37m\u001b[0m \u001b[1m9s\u001b[0m 3ms/step - accuracy: 0.9822 - f1_score: 0.9298 - loss: 0.0549 - precision: 0.9825 - recall: 0.9820 - val_accuracy: 0.9815 - val_f1_score: 0.9308 - val_loss: 0.0667 - val_precision: 0.9818 - val_recall: 0.9814\n",
      "Epoch 29/30\n",
      "\u001b[1m3381/3381\u001b[0m \u001b[32m━━━━━━━━━━━━━━━━━━━━\u001b[0m\u001b[37m\u001b[0m \u001b[1m12s\u001b[0m 3ms/step - accuracy: 0.9826 - f1_score: 0.9314 - loss: 0.0466 - precision: 0.9828 - recall: 0.9823 - val_accuracy: 0.9825 - val_f1_score: 0.9329 - val_loss: 0.0577 - val_precision: 0.9828 - val_recall: 0.9820\n",
      "Epoch 30/30\n",
      "\u001b[1m3381/3381\u001b[0m \u001b[32m━━━━━━━━━━━━━━━━━━━━\u001b[0m\u001b[37m\u001b[0m \u001b[1m12s\u001b[0m 3ms/step - accuracy: 0.9825 - f1_score: 0.9325 - loss: 0.0492 - precision: 0.9827 - recall: 0.9822 - val_accuracy: 0.9838 - val_f1_score: 0.9355 - val_loss: 0.0815 - val_precision: 0.9841 - val_recall: 0.9836\n"
     ]
    }
   ],
   "source": [
    "history = model.fit(X_train, y_onehot_train, epochs=30, validation_split=0.2, batch_size=64)"
   ]
  },
  {
   "cell_type": "code",
   "execution_count": 90,
   "metadata": {
    "colab": {
     "base_uri": "https://localhost:8080/",
     "height": 447
    },
    "id": "NOplkSlIGzSm",
    "outputId": "5445a0a6-c4d2-441c-bcdc-7ca608933340"
   },
   "outputs": [
    {
     "data": {
      "text/plain": [
       "[<matplotlib.lines.Line2D at 0x7e17a7d6fe20>]"
      ]
     },
     "execution_count": 90,
     "metadata": {},
     "output_type": "execute_result"
    },
    {
     "data": {
      "image/png": "[encoded data removed]",
      "text/plain": [
       "<Figure size 640x480 with 1 Axes>"
      ]
     },
     "metadata": {},
     "output_type": "display_data"
    }
   ],
   "source": [
    "plt.plot(history.history['loss'])\n",
    "plt.plot(history.history['val_loss'])"
   ]
  },
  {
   "cell_type": "code",
   "execution_count": 91,
   "metadata": {
    "colab": {
     "base_uri": "https://localhost:8080/",
     "height": 551
    },
    "id": "STrrHldLrEFe",
    "outputId": "ae9f08a4-0f3f-4c5a-fa87-62f77318334d"
   },
   "outputs": [
    {
     "data": {
      "text/plain": [
       "[<matplotlib.lines.Line2D at 0x7e17a7b31600>,\n",
       " <matplotlib.lines.Line2D at 0x7e17a7b31630>,\n",
       " <matplotlib.lines.Line2D at 0x7e17a7b31660>,\n",
       " <matplotlib.lines.Line2D at 0x7e17c0e172b0>,\n",
       " <matplotlib.lines.Line2D at 0x7e17a7b31750>,\n",
       " <matplotlib.lines.Line2D at 0x7e17a7b31840>,\n",
       " <matplotlib.lines.Line2D at 0x7e17a7b319f0>]"
      ]
     },
     "execution_count": 91,
     "metadata": {},
     "output_type": "execute_result"
    },
    {
     "data": {
      "image/png": "[encoded data removed]",
      "text/plain": [
       "<Figure size 640x480 with 1 Axes>"
      ]
     },
     "metadata": {},
     "output_type": "display_data"
    }
   ],
   "source": [
    "plt.plot(history.history['f1_score'])\n",
    "plt.plot(history.history['val_f1_score'])"
   ]
  },
  {
   "cell_type": "code",
   "execution_count": 92,
   "metadata": {
    "id": "VBUoMF6dvppw"
   },
   "outputs": [],
   "source": [
    "def return_max(y):\n",
    "  dim = y.shape[0]\n",
    "  y_ret = np.zeros(shape=(dim, 7))\n",
    "  for i in range(y.shape[0]):\n",
    "    max = np.max(y[i])\n",
    "    y_ret[i] = np.where(y[i] == max, 1, 0)\n",
    "  return y_ret"
   ]
  },
  {
   "cell_type": "code",
   "execution_count": 93,
   "metadata": {
    "id": "4ayD65IG045M"
   },
   "outputs": [],
   "source": [
    "y_onehot_test = OneHotEncoder().fit_transform(y_test.values.reshape(-1,1)).toarray()"
   ]
  },
  {
   "cell_type": "code",
   "execution_count": 94,
   "metadata": {
    "colab": {
     "base_uri": "https://localhost:8080/"
    },
    "id": "77-784jSrYoa",
    "outputId": "aefd63c6-b477-4aa9-cf0f-6a1a258b345e"
   },
   "outputs": [
    {
     "name": "stdout",
     "output_type": "stream",
     "text": [
      "\u001b[1m2113/2113\u001b[0m \u001b[32m━━━━━━━━━━━━━━━━━━━━\u001b[0m\u001b[37m\u001b[0m \u001b[1m3s\u001b[0m 1ms/step\n",
      "Accuracy: 0.9834925894151406\n",
      "Recall: [0.96491575 0.93857036 0.99875921 0.99766606 0.63144963 0.99940429\n",
      " 0.93095238]\n",
      "Precision: [0.98135491 0.94278235 0.99829471 0.9725741  0.94139194 0.998347\n",
      " 0.82489451]\n",
      "F1 Score: [0.9730659  0.94067164 0.9985269  0.9849603  0.75588235 0.99887536\n",
      " 0.87472036]\n"
     ]
    }
   ],
   "source": [
    "from sklearn.metrics import accuracy_score, recall_score, precision_score, f1_score\n",
    "\n",
    "y_pred = model.predict(X_test)\n",
    "y_pred = return_max(y_pred)\n",
    "rec = recall_score(y_onehot_test, y_pred, average=None)\n",
    "pre = precision_score(y_onehot_test, y_pred, average=None)\n",
    "f1 = f1_score(y_onehot_test, y_pred, average=None)\n",
    "print(f'Accuracy: {accuracy_score(y_onehot_test, y_pred)}')\n",
    "print(f'Recall: {rec}')\n",
    "print(f'Precision: {pre}')\n",
    "print(f'F1 Score: {f1}')"
   ]
  },
  {
   "cell_type": "markdown",
   "metadata": {
    "id": "kLbUvL2DEglX"
   },
   "source": [
    "#Inference"
   ]
  },
  {
   "cell_type": "code",
   "execution_count": 13,
   "metadata": {
    "id": "3EUsgeFozRQq"
   },
   "outputs": [],
   "source": [
    "df2 = pd.read_csv('output.csv')"
   ]
  },
  {
   "cell_type": "code",
   "execution_count": 14,
   "metadata": {
    "id": "7IAk8bOsHE_e"
   },
   "outputs": [],
   "source": [
    "to_infer = df2.columns.values"
   ]
  },
  {
   "cell_type": "code",
   "execution_count": 15,
   "metadata": {
    "id": "1gs3Ok4oH3w8"
   },
   "outputs": [],
   "source": [
    "trained = df.columns.values"
   ]
  },
  {
   "cell_type": "code",
   "execution_count": 16,
   "metadata": {
    "id": "pnq72OYrIIiN"
   },
   "outputs": [],
   "source": [
    "def intersect(col1, col2):\n",
    "  result = [value for value in col1 if value in col2]\n",
    "  return result"
   ]
  },
  {
   "cell_type": "code",
   "execution_count": 17,
   "metadata": {
    "id": "9CDFyschISQn"
   },
   "outputs": [],
   "source": [
    "merged = intersect(to_infer, trained)"
   ]
  },
  {
   "cell_type": "code",
   "execution_count": 18,
   "metadata": {
    "id": "g9fqGGFYIYrY"
   },
   "outputs": [],
   "source": [
    "df_merged = df2[merged]"
   ]
  },
  {
   "cell_type": "code",
   "execution_count": 19,
   "metadata": {
    "id": "2ULjffcAPAo5"
   },
   "outputs": [],
   "source": [
    "model = joblib.load('xgboost_model.joblib')"
   ]
  },
  {
   "cell_type": "code",
   "execution_count": 22,
   "metadata": {
    "id": "9GFwjmE5PX-z"
   },
   "outputs": [],
   "source": [
    "import xgboost as xgb\n",
    "\n",
    "dtest_predict = xgb.DMatrix(df_merged)"
   ]
  },
  {
   "cell_type": "code",
   "execution_count": 23,
   "metadata": {
    "id": "93FekdoxPpt9"
   },
   "outputs": [],
   "source": [
    "prediction = model.predict(dtest_predict)"
   ]
  },
  {
   "cell_type": "code",
   "execution_count": 24,
   "metadata": {
    "colab": {
     "base_uri": "https://localhost:8080/"
    },
    "id": "cH5lhDFAQSsS",
    "outputId": "89097448-349c-4fe0-a767-77e91f0a597c"
   },
   "outputs": [
    {
     "data": {
      "text/plain": [
       "205"
      ]
     },
     "execution_count": 24,
     "metadata": {},
     "output_type": "execute_result"
    }
   ],
   "source": [
    "prediction.size"
   ]
  },
  {
   "cell_type": "code",
   "execution_count": 25,
   "metadata": {
    "colab": {
     "base_uri": "https://localhost:8080/"
    },
    "id": "ACBD9TL9Ri1l",
    "outputId": "fe91833b-f138-4004-a287-c0b71e89affb"
   },
   "outputs": [
    {
     "data": {
      "text/plain": [
       "array([0., 0., 0., 0., 0., 0., 0., 0., 0., 0., 0., 0., 0., 0., 0., 0., 0.,\n",
       "       0., 0., 0., 0., 0., 0., 0., 0., 0., 0., 0., 0., 0., 0., 0., 0., 0.,\n",
       "       0., 0., 0., 0., 0., 0., 0., 0., 0., 0., 0., 0., 0., 0., 0., 0., 0.,\n",
       "       0., 0., 0., 0., 0., 0., 0., 0., 0., 0., 0., 0., 0., 0., 0., 0., 0.,\n",
       "       0., 0., 0., 0., 0., 0., 0., 0., 0., 0., 0., 0., 0., 0., 0., 0., 0.,\n",
       "       0., 0., 0., 0., 0., 0., 0., 0., 0., 0., 0., 0., 0., 0., 0., 0., 0.,\n",
       "       0., 0., 0., 0., 0., 0., 0., 0., 0., 0., 0., 0., 0., 0., 0., 0., 0.,\n",
       "       0., 0., 0., 0., 0., 0., 0., 0., 0., 0., 0., 0., 0., 0., 0., 0., 0.,\n",
       "       0., 0., 0., 0., 0., 0., 0., 0., 0., 0., 0., 0., 0., 0., 0., 0., 0.,\n",
       "       0., 0., 0., 0., 0., 0., 0., 0., 0., 0., 0., 0., 0., 0., 0., 0., 0.,\n",
       "       0., 0., 0., 0., 0., 0., 0., 0., 0., 0., 0., 0., 0., 0., 0., 0., 0.,\n",
       "       0., 0., 0., 0., 0., 0., 0., 0., 0., 0., 0., 0., 0., 0., 0., 0., 0.,\n",
       "       0.], dtype=float32)"
      ]
     },
     "execution_count": 25,
     "metadata": {},
     "output_type": "execute_result"
    }
   ],
   "source": [
    "prediction"
   ]
  },
  {
   "cell_type": "code",
   "execution_count": null,
   "metadata": {
    "id": "PtPwhjaURpJ0"
   },
   "outputs": [],
   "source": []
  }
 ],
 "metadata": {
  "colab": {
   "collapsed_sections": [
    "H_d43avpBFuc",
    "djXJyHQlBPqD"
   ],
   "provenance": []
  },
  "kernelspec": {
   "display_name": "Python 3 (ipykernel)",
   "language": "python",
   "name": "python3"
  },
  "language_info": {
   "codemirror_mode": {
    "name": "ipython",
    "version": 3
   },
   "file_extension": ".py",
   "mimetype": "text/x-python",
   "name": "python",
   "nbconvert_exporter": "python",
   "pygments_lexer": "ipython3",
   "version": "3.10.12"
  }
 },
 "nbformat": 4,
 "nbformat_minor": 4
}
