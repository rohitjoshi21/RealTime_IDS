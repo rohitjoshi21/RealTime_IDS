{
 "cells": [
  {
   "cell_type": "code",
   "execution_count": 1,
   "metadata": {
    "id": "J2lOgihD1egG"
   },
   "outputs": [],
   "source": [
    "import numpy as np\n",
    "import pandas as pd\n",
    "import seaborn as sns\n",
    "import matplotlib.pyplot as plt\n",
    "import joblib"
   ]
  },
  {
   "cell_type": "code",
   "execution_count": 2,
   "metadata": {
    "colab": {
     "base_uri": "https://localhost:8080/"
    },
    "id": "FMPc4zhs1IB1",
    "outputId": "717b8efc-8300-4af6-f993-3eddc0e00efa"
   },
   "outputs": [
    {
     "name": "stdout",
     "output_type": "stream",
     "text": [
      "Downloading...\n",
      "From (original): https://drive.google.com/uc?id=1AjWeHutvCSHCfB_si95rgF3904cuymxq\n",
      "From (redirected): https://drive.google.com/uc?id=1AjWeHutvCSHCfB_si95rgF3904cuymxq&confirm=t&uuid=37982b8c-a282-4f7f-8f19-9590b033f140\n",
      "To: /content/out.csv\n",
      "100% 110M/110M [00:02<00:00, 40.0MB/s]\n"
     ]
    }
   ],
   "source": [
    "!gdown 'https://drive.google.com/uc?id=1AjWeHutvCSHCfB_si95rgF3904cuymxq'"
   ]
  },
  {
   "cell_type": "code",
   "execution_count": 3,
   "metadata": {
    "id": "RZaDWrpY1ZY_"
   },
   "outputs": [],
   "source": [
    "df1 = pd.read_csv('out.csv')"
   ]
  },
  {
   "cell_type": "code",
   "execution_count": 37,
   "metadata": {
    "colab": {
     "base_uri": "https://localhost:8080/",
     "height": 335
    },
    "id": "ioqe1ryBfC2x",
    "outputId": "b5397511-3395-44ff-a026-b6f554d7b4b7"
   },
   "outputs": [
    {
     "data": {
      "text/html": [
       "<div>\n",
       "<style scoped>\n",
       "    .dataframe tbody tr th:only-of-type {\n",
       "        vertical-align: middle;\n",
       "    }\n",
       "\n",
       "    .dataframe tbody tr th {\n",
       "        vertical-align: top;\n",
       "    }\n",
       "\n",
       "    .dataframe thead th {\n",
       "        text-align: right;\n",
       "    }\n",
       "</style>\n",
       "<table border=\"1\" class=\"dataframe\">\n",
       "  <thead>\n",
       "    <tr style=\"text-align: right;\">\n",
       "      <th></th>\n",
       "      <th>count</th>\n",
       "    </tr>\n",
       "    <tr>\n",
       "      <th>Label</th>\n",
       "      <th></th>\n",
       "    </tr>\n",
       "  </thead>\n",
       "  <tbody>\n",
       "    <tr>\n",
       "      <th>0</th>\n",
       "      <td>100000</td>\n",
       "    </tr>\n",
       "    <tr>\n",
       "      <th>3</th>\n",
       "      <td>80000</td>\n",
       "    </tr>\n",
       "    <tr>\n",
       "      <th>5</th>\n",
       "      <td>75000</td>\n",
       "    </tr>\n",
       "    <tr>\n",
       "      <th>2</th>\n",
       "      <td>65000</td>\n",
       "    </tr>\n",
       "    <tr>\n",
       "      <th>1</th>\n",
       "      <td>13835</td>\n",
       "    </tr>\n",
       "    <tr>\n",
       "      <th>6</th>\n",
       "      <td>2180</td>\n",
       "    </tr>\n",
       "    <tr>\n",
       "      <th>4</th>\n",
       "      <td>2013</td>\n",
       "    </tr>\n",
       "  </tbody>\n",
       "</table>\n",
       "</div><br><label><b>dtype:</b> int64</label>"
      ],
      "text/plain": [
       "Label\n",
       "0    100000\n",
       "3     80000\n",
       "5     75000\n",
       "2     65000\n",
       "1     13835\n",
       "6      2180\n",
       "4      2013\n",
       "Name: count, dtype: int64"
      ]
     },
     "execution_count": 37,
     "metadata": {},
     "output_type": "execute_result"
    }
   ],
   "source": [
    "df1['Label'].value_counts()"
   ]
  },
  {
   "cell_type": "code",
   "execution_count": 4,
   "metadata": {
    "id": "PTwFbZAxkvxm"
   },
   "outputs": [],
   "source": [
    "from sklearn.preprocessing import LabelEncoder\n",
    "\n",
    "le = LabelEncoder()\n",
    "\n",
    "df1['Label'] = le.fit_transform(df1['Label'])"
   ]
  },
  {
   "cell_type": "code",
   "execution_count": 5,
   "metadata": {
    "id": "xUzJAvK7kzlu"
   },
   "outputs": [],
   "source": [
    "from sklearn.preprocessing import StandardScaler\n",
    "#Scaling every column in the dataframe\n",
    "scaler = StandardScaler()\n",
    "df1.iloc[:, :-1] = pd.DataFrame(scaler.fit_transform(df1.iloc[:, :-1]), columns=df1.iloc[:, :-1].columns)"
   ]
  },
  {
   "cell_type": "code",
   "execution_count": 6,
   "metadata": {
    "id": "YovrtfMGk3PW"
   },
   "outputs": [],
   "source": [
    "correlation = df1.select_dtypes(include='float64').corr().abs()"
   ]
  },
  {
   "cell_type": "code",
   "execution_count": 31,
   "metadata": {
    "colab": {
     "base_uri": "https://localhost:8080/"
    },
    "id": "_rgwA-kPbcSo",
    "outputId": "13ed6ee4-988e-4f77-ab5f-e910745a27cf"
   },
   "outputs": [
    {
     "name": "stdout",
     "output_type": "stream",
     "text": [
      "<class 'pandas.core.frame.DataFrame'>\n",
      "RangeIndex: 338028 entries, 0 to 338027\n",
      "Data columns (total 42 columns):\n",
      " #   Column                       Non-Null Count   Dtype  \n",
      "---  ------                       --------------   -----  \n",
      " 0   Flow Duration                338028 non-null  float64\n",
      " 1   Total Fwd Packets            338028 non-null  float64\n",
      " 2   Total Length of Fwd Packets  338028 non-null  float64\n",
      " 3   Fwd Packet Length Max        338028 non-null  float64\n",
      " 4   Fwd Packet Length Min        338028 non-null  float64\n",
      " 5   Fwd Packet Length Mean       338028 non-null  float64\n",
      " 6   Bwd Packet Length Max        338028 non-null  float64\n",
      " 7   Bwd Packet Length Min        338028 non-null  float64\n",
      " 8   Flow Bytes/s                 338028 non-null  float64\n",
      " 9   Flow Packets/s               338028 non-null  float64\n",
      " 10  Flow IAT Mean                338028 non-null  float64\n",
      " 11  Flow IAT Std                 338028 non-null  float64\n",
      " 12  Flow IAT Min                 338028 non-null  float64\n",
      " 13  Fwd IAT Mean                 338028 non-null  float64\n",
      " 14  Fwd IAT Min                  338028 non-null  float64\n",
      " 15  Bwd IAT Total                338028 non-null  float64\n",
      " 16  Bwd IAT Mean                 338028 non-null  float64\n",
      " 17  Bwd IAT Std                  338028 non-null  float64\n",
      " 18  Bwd IAT Max                  338028 non-null  float64\n",
      " 19  Bwd IAT Min                  338028 non-null  float64\n",
      " 20  Fwd PSH Flags                338028 non-null  float64\n",
      " 21  Fwd URG Flags                338028 non-null  float64\n",
      " 22  Fwd Header Length            338028 non-null  float64\n",
      " 23  Fwd Packets/s                338028 non-null  float64\n",
      " 24  Bwd Packets/s                338028 non-null  float64\n",
      " 25  Min Packet Length            338028 non-null  float64\n",
      " 26  Packet Length Variance       338028 non-null  float64\n",
      " 27  FIN Flag Count               338028 non-null  float64\n",
      " 28  RST Flag Count               338028 non-null  float64\n",
      " 29  PSH Flag Count               338028 non-null  float64\n",
      " 30  ACK Flag Count               338028 non-null  float64\n",
      " 31  URG Flag Count               338028 non-null  float64\n",
      " 32  Down/Up Ratio                338028 non-null  float64\n",
      " 33  Init_Win_bytes_forward       338028 non-null  float64\n",
      " 34  Init_Win_bytes_backward      338028 non-null  float64\n",
      " 35  act_data_pkt_fwd             338028 non-null  float64\n",
      " 36  Active Mean                  338028 non-null  float64\n",
      " 37  Active Std                   338028 non-null  float64\n",
      " 38  Active Max                   338028 non-null  float64\n",
      " 39  Active Min                   338028 non-null  float64\n",
      " 40  Idle Std                     338028 non-null  float64\n",
      " 41  Label                        338028 non-null  int64  \n",
      "dtypes: float64(41), int64(1)\n",
      "memory usage: 108.3 MB\n"
     ]
    }
   ],
   "source": [
    "upper_triangle = correlation.where(np.triu(np.ones(correlation.shape), k=1).astype(bool))\n",
    "\n",
    "to_drop = [column for column in upper_triangle.columns if any(upper_triangle[column] > 0.95)]\n",
    "\n",
    "to_drop.append('Destination Port')\n",
    "\n",
    "df = df1.drop(columns=to_drop)\n",
    "\n",
    "df.info()"
   ]
  },
  {
   "cell_type": "code",
   "execution_count": 32,
   "metadata": {
    "id": "rTbIBPzMk5Sq"
   },
   "outputs": [],
   "source": [
    "from sklearn.model_selection import train_test_split"
   ]
  },
  {
   "cell_type": "code",
   "execution_count": 38,
   "metadata": {
    "id": "oe9Mk2r4k7ZT"
   },
   "outputs": [],
   "source": [
    "X = df.iloc[:, :-1]\n",
    "y = df.iloc[:,-1]\n",
    "\n",
    "X_train, X_test, y_train, y_test = train_test_split(X, y, test_size=0.2)"
   ]
  },
  {
   "cell_type": "markdown",
   "metadata": {},
   "source": [
    "# Logistic Regression"
   ]
  },
  {
   "cell_type": "code",
   "execution_count": 34,
   "metadata": {
    "id": "AJNGcaBMk9Wz"
   },
   "outputs": [],
   "source": [
    "from sklearn.linear_model import LogisticRegression\n",
    "\n",
    "model = LogisticRegression(max_iter=2000000).fit(X_train, y_train)"
   ]
  },
  {
   "cell_type": "code",
   "execution_count": 39,
   "metadata": {
    "id": "9PZxTWIOefcb"
   },
   "outputs": [],
   "source": [
    "import xgboost as xgb\n",
    "\n",
    "dtrain = xgb.DMatrix(X_train, label=y_train)\n",
    "dtest = xgb.DMatrix(X_test, label=y_test)\n",
    "\n",
    "params = {\n",
    "    'objective': 'multi:softmax',\n",
    "    'num_class': 7,\n",
    "    'max_depth': 5,\n",
    "    'eta': 0.1,\n",
    "    'subsample': 0.8,\n",
    "    'colsample_bytree': 0.8,\n",
    "    'seed': 42\n",
    "}\n",
    "\n",
    "num_round = 1000  # Number of boosting iterations\n",
    "bst = xgb.train(params, dtrain, num_round)\n",
    "\n",
    "y_pred = bst.predict(dtest)\n"
   ]
  },
  {
   "cell_type": "code",
   "execution_count": 35,
   "metadata": {
    "colab": {
     "base_uri": "https://localhost:8080/"
    },
    "id": "cvkIb8QklAQI",
    "outputId": "a86b570e-8e08-411a-f285-f8e0a35e2be4"
   },
   "outputs": [
    {
     "data": {
      "text/plain": [
       "['regression_model.joblib']"
      ]
     },
     "execution_count": 35,
     "metadata": {},
     "output_type": "execute_result"
    }
   ],
   "source": [
    "import joblib\n",
    "\n",
    "joblib.dump(model, 'regression_model.joblib')"
   ]
  },
  {
   "cell_type": "code",
   "execution_count": 35,
   "metadata": {
    "id": "2WpDODBF2PWP"
   },
   "outputs": [],
   "source": []
  },
  {
   "cell_type": "code",
   "execution_count": 40,
   "metadata": {
    "colab": {
     "base_uri": "https://localhost:8080/"
    },
    "id": "LqJ7J6MglCNb",
    "outputId": "569e024d-9984-4387-b0ea-041798534d61"
   },
   "outputs": [
    {
     "name": "stdout",
     "output_type": "stream",
     "text": [
      "Accuracy: 0.9990829216341744\n",
      "Recall: [0.99786027 1.         0.99984687 0.99981157 0.99257426 0.99966586\n",
      " 0.98607889]\n",
      "Precision: [0.99935214 0.9996337  0.99961727 0.99893317 0.9616307  0.99939872\n",
      " 0.99765258]\n",
      "F1 Score: [0.99860565 0.99981682 0.99973206 0.99937217 0.97685749 0.99953227\n",
      " 0.99183197]\n"
     ]
    }
   ],
   "source": [
    "from sklearn.metrics import accuracy_score, recall_score, precision_score, f1_score\n",
    "\n",
    "#y_pred = model.predict(X_test)\n",
    "\n",
    "rec = recall_score(y_test, y_pred, average=None)\n",
    "pre = precision_score(y_test, y_pred, average=None)\n",
    "f1 = f1_score(y_test, y_pred, average=None)\n",
    "print(f'Accuracy: {accuracy_score(y_test, y_pred)}')\n",
    "print(f'Recall: {rec}')\n",
    "print(f'Precision: {pre}')\n",
    "print(f'F1 Score: {f1}')"
   ]
  },
  {
   "cell_type": "markdown",
   "metadata": {
    "id": "QH8smU2aiZoc"
   },
   "source": [
    "# XGBoost"
   ]
  },
  {
   "cell_type": "code",
   "execution_count": null,
   "metadata": {},
   "outputs": [],
   "source": [
    "import xgboost as xgb\n",
    "\n",
    "dtrain = xgb.DMatrix(X_train, label=y_train)\n",
    "dtest = xgb.DMatrix(X_test, label=y_test)\n",
    "\n",
    "params = {\n",
    "    'objective': 'multi:softmax',\n",
    "    'num_class': 7,\n",
    "    'max_depth': 5,\n",
    "    'eta': 0.1,\n",
    "    'subsample': 0.8,\n",
    "    'colsample_bytree': 0.8,\n",
    "    'seed': 42\n",
    "}\n",
    "\n",
    "num_round = 1000  # Number of boosting iterations\n",
    "bst = xgb.train(params, dtrain, num_round)\n",
    "\n",
    "y_pred = bst.predict(dtest)"
   ]
  },
  {
   "cell_type": "code",
   "execution_count": null,
   "metadata": {},
   "outputs": [],
   "source": [
    "from sklearn.metrics import accuracy_score, recall_score, precision_score, f1_score\n",
    "\n",
    "rec = recall_score(y_test, y_pred, average=None)\n",
    "pre = precision_score(y_test, y_pred, average=None)\n",
    "f1 = f1_score(y_test, y_pred, average=None)\n",
    "print(f'Accuracy: {accuracy_score(y_test, y_pred)}')\n",
    "print(f'Recall: {rec}')\n",
    "print(f'Precision: {pre}')\n",
    "print(f'F1 Score: {f1}')"
   ]
  },
  {
   "cell_type": "code",
   "execution_count": null,
   "metadata": {},
   "outputs": [],
   "source": [
    "joblib.dump(bst, 'xgboost_model.joblib')"
   ]
  },
  {
   "cell_type": "markdown",
   "metadata": {},
   "source": [
    "# Neural Network"
   ]
  },
  {
   "cell_type": "code",
   "execution_count": null,
   "metadata": {},
   "outputs": [],
   "source": [
    "import tensorflow as tf\n",
    "from tensorflow.keras import layers"
   ]
  },
  {
   "cell_type": "code",
   "execution_count": null,
   "metadata": {},
   "outputs": [],
   "source": [
    "model = tf.keras.Sequential(\n",
    "    [layers.InputLayer(shape=(41,)),\n",
    "     layers.Dense(128, activation='relu'),\n",
    "     layers.Dense(128,activation='relu'),\n",
    "     layers.Dense(7, activation='softmax')]\n",
    ")"
   ]
  },
  {
   "cell_type": "code",
   "execution_count": null,
   "metadata": {},
   "outputs": [],
   "source": [
    "model.summary()"
   ]
  },
  {
   "cell_type": "code",
   "execution_count": null,
   "metadata": {},
   "outputs": [],
   "source": [
    "model.compile(optimizer = 'adam', loss='categorical_crossentropy', metrics=['accuracy', 'precision', 'recall', 'f1_score'])"
   ]
  },
  {
   "cell_type": "code",
   "execution_count": null,
   "metadata": {},
   "outputs": [],
   "source": [
    "from sklearn.preprocessing import OneHotEncoder\n",
    "\n",
    "y_onehot_train = OneHotEncoder().fit_transform(y_train.values.reshape(-1,1)).toarray()"
   ]
  },
  {
   "cell_type": "code",
   "execution_count": null,
   "metadata": {},
   "outputs": [],
   "source": [
    "history = model.fit(X_train, y_onehot_train, epochs=30, validation_split=0.2, batch_size=64)"
   ]
  },
  {
   "cell_type": "code",
   "execution_count": null,
   "metadata": {},
   "outputs": [],
   "source": [
    "plt.plot(history.history['loss'])\n",
    "plt.plot(history.history['val_loss'])"
   ]
  },
  {
   "cell_type": "code",
   "execution_count": null,
   "metadata": {},
   "outputs": [],
   "source": [
    "def return_max(y):\n",
    "  dim = y.shape[0]\n",
    "  y_ret = np.zeros(shape=(dim, 7))\n",
    "  for i in range(y.shape[0]):\n",
    "    max = np.max(y[i])\n",
    "    y_ret[i] = np.where(y[i] == max, 1, 0)\n",
    "  return y_ret"
   ]
  },
  {
   "cell_type": "code",
   "execution_count": null,
   "metadata": {},
   "outputs": [],
   "source": [
    "y_onehot_test = OneHotEncoder().fit_transform(y_test.values.reshape(-1,1)).toarray()"
   ]
  },
  {
   "cell_type": "code",
   "execution_count": null,
   "metadata": {},
   "outputs": [],
   "source": [
    "from sklearn.metrics import accuracy_score, recall_score, precision_score, f1_score\n",
    "\n",
    "y_pred = model.predict(X_test)\n",
    "y_pred = return_max(y_pred)\n",
    "rec = recall_score(y_onehot_test, y_pred, average=None)\n",
    "pre = precision_score(y_onehot_test, y_pred, average=None)\n",
    "f1 = f1_score(y_onehot_test, y_pred, average=None)\n",
    "print(f'Accuracy: {accuracy_score(y_onehot_test, y_pred)}')\n",
    "print(f'Recall: {rec}')\n",
    "print(f'Precision: {pre}')\n",
    "print(f'F1 Score: {f1}')"
   ]
  }
 ],
 "metadata": {
  "colab": {
   "provenance": []
  },
  "kernelspec": {
   "display_name": "Python 3 (ipykernel)",
   "language": "python",
   "name": "python3"
  },
  "language_info": {
   "codemirror_mode": {
    "name": "ipython",
    "version": 3
   },
   "file_extension": ".py",
   "mimetype": "text/x-python",
   "name": "python",
   "nbconvert_exporter": "python",
   "pygments_lexer": "ipython3",
   "version": "3.11.1"
  }
 },
 "nbformat": 4,
 "nbformat_minor": 4
}
